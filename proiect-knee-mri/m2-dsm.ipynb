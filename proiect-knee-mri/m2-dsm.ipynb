{
  "cells": [
    {
      "cell_type": "markdown",
      "metadata": {
        "id": "SvsQnG3ClDa_"
      },
      "source": [
        "**Implementare model pentru setul de date MRNet**"
      ]
    },
    {
      "cell_type": "markdown",
      "metadata": {
        "id": "prZVE2ibgPPi"
      },
      "source": [
        "Preprocesare imagini genunchi"
      ]
    },
    {
      "cell_type": "code",
      "execution_count": null,
      "metadata": {
        "id": "9xziB50JlKf-"
      },
      "outputs": [],
      "source": [
        "import numpy as np\n",
        "import pandas as pd\n",
        "import os\n",
        "import shutil\n",
        "import tempfile\n",
        "import matplotlib.pyplot as plt\n",
        "import PIL\n",
        "from PIL import Image\n",
        "import torch\n",
        "import torch.nn as nn\n",
        "import torch.optim as optim\n",
        "from torch.utils.data import Dataset, DataLoader\n",
        "import torchvision.transforms as transforms\n",
        "from torch.utils.tensorboard import SummaryWriter\n",
        "from sklearn.metrics import classification_report\n",
        "from sklearn.model_selection import train_test_split\n",
        "\n",
        "from torch.utils.data import random_split\n",
        "import matplotlib.pyplot as plt\n",
        "from collections import Counter\n",
        "from tqdm import tqdm\n",
        "\n",
        "from sklearn.metrics import roc_auc_score"
      ]
    },
    {
      "cell_type": "code",
      "execution_count": null,
      "metadata": {
        "colab": {
          "base_uri": "https://localhost:8080/"
        },
        "id": "HyViiV8DlSmQ",
        "outputId": "071be7b6-7e04-4127-e3e5-9a0ca30e9d8f"
      },
      "outputs": [
        {
          "output_type": "stream",
          "name": "stdout",
          "text": [
            "Requirement already satisfied: kaggle in /usr/local/lib/python3.10/dist-packages (1.6.17)\n",
            "Requirement already satisfied: six>=1.10 in /usr/local/lib/python3.10/dist-packages (from kaggle) (1.16.0)\n",
            "Requirement already satisfied: certifi>=2023.7.22 in /usr/local/lib/python3.10/dist-packages (from kaggle) (2024.8.30)\n",
            "Requirement already satisfied: python-dateutil in /usr/local/lib/python3.10/dist-packages (from kaggle) (2.8.2)\n",
            "Requirement already satisfied: requests in /usr/local/lib/python3.10/dist-packages (from kaggle) (2.32.3)\n",
            "Requirement already satisfied: tqdm in /usr/local/lib/python3.10/dist-packages (from kaggle) (4.66.6)\n",
            "Requirement already satisfied: python-slugify in /usr/local/lib/python3.10/dist-packages (from kaggle) (8.0.4)\n",
            "Requirement already satisfied: urllib3 in /usr/local/lib/python3.10/dist-packages (from kaggle) (2.2.3)\n",
            "Requirement already satisfied: bleach in /usr/local/lib/python3.10/dist-packages (from kaggle) (6.2.0)\n",
            "Requirement already satisfied: webencodings in /usr/local/lib/python3.10/dist-packages (from bleach->kaggle) (0.5.1)\n",
            "Requirement already satisfied: text-unidecode>=1.3 in /usr/local/lib/python3.10/dist-packages (from python-slugify->kaggle) (1.3)\n",
            "Requirement already satisfied: charset-normalizer<4,>=2 in /usr/local/lib/python3.10/dist-packages (from requests->kaggle) (3.4.0)\n",
            "Requirement already satisfied: idna<4,>=2.5 in /usr/local/lib/python3.10/dist-packages (from requests->kaggle) (3.10)\n"
          ]
        }
      ],
      "source": [
        "!pip install kaggle"
      ]
    },
    {
      "cell_type": "code",
      "execution_count": null,
      "metadata": {
        "colab": {
          "base_uri": "https://localhost:8080/"
        },
        "id": "9asQBTBklS0O",
        "outputId": "c0f8cf5e-0e23-47e1-e728-f26c733e0504"
      },
      "outputs": [
        {
          "output_type": "stream",
          "name": "stdout",
          "text": [
            "Dataset URL: https://www.kaggle.com/datasets/cjinny/mrnet-v1\n",
            "License(s): unknown\n",
            "Downloading mrnet-v1.zip to /content\n",
            "100% 5.67G/5.68G [01:10<00:00, 138MB/s]\n",
            "100% 5.68G/5.68G [01:10<00:00, 86.2MB/s]\n"
          ]
        }
      ],
      "source": [
        "!kaggle datasets download -d cjinny/mrnet-v1 # https://www.kaggle.com/datasets/cjinny/mrnet-v1"
      ]
    },
    {
      "cell_type": "code",
      "execution_count": null,
      "metadata": {
        "id": "ImOn7w49lY42"
      },
      "outputs": [],
      "source": [
        "import zipfile\n",
        "\n",
        "with zipfile.ZipFile(\"mrnet-v1.zip\", 'r') as zip_ref:\n",
        "   zip_ref.extractall(\"knee_data\")"
      ]
    },
    {
      "cell_type": "code",
      "execution_count": null,
      "metadata": {
        "colab": {
          "base_uri": "https://localhost:8080/"
        },
        "id": "NgugUkY3lZFr",
        "outputId": "227aac32-2aba-4b03-9f7a-8e9c798f10e5"
      },
      "outputs": [
        {
          "output_type": "stream",
          "name": "stdout",
          "text": [
            "knee_data/MRNet-v1.0/train\n",
            "knee_data/MRNet-v1.0/valid\n"
          ]
        }
      ],
      "source": [
        "data_dir = \"knee_data/MRNet-v1.0\"\n",
        "train_dir = os.path.join(data_dir, \"train\")\n",
        "val_dir = os.path.join(data_dir, \"valid\")\n",
        "print(train_dir)\n",
        "print(val_dir)"
      ]
    },
    {
      "cell_type": "code",
      "execution_count": null,
      "metadata": {
        "id": "ikXSDVqcpiEa"
      },
      "outputs": [],
      "source": [
        "def create_df(mode):\n",
        "    sagittal = os.path.join(data_dir, f\"{mode}/sagittal\")\n",
        "    axial = os.path.join(data_dir, f\"{mode}/axial\")\n",
        "    coronal = os.path.join(data_dir, f\"{mode}/coronal\")\n",
        "    axis = [sagittal, axial, coronal]\n",
        "    labels = ['acl','meniscus','abnormal']\n",
        "    paths = [os.path.join(data_dir, f\"{mode}-{l}.csv\") for l in labels]\n",
        "\n",
        "    l1 = pd.read_csv(paths[0], header=None, names=['case', labels[0]], dtype={'case': str, labels[0]: np.int64})\n",
        "    l2 = pd.read_csv(paths[1], header=None, names=['case', labels[1]], dtype={'case': str, labels[1]: np.int64})\n",
        "    l3 = pd.read_csv( paths[2], header=None, names=['case', labels[2]], dtype={'case': str, labels[2]: np.int64})\n",
        "    final_df = pd.DataFrame({'case': l1['case'], labels[0]: l1[labels[0]], labels[1]: l2[labels[1]], labels[2]: l3[labels[2]],})\n",
        "\n",
        "    return final_df"
      ]
    },
    {
      "cell_type": "code",
      "execution_count": null,
      "metadata": {
        "id": "zXUhq7KDQuJh"
      },
      "outputs": [],
      "source": [
        "train_df = create_df('train')\n",
        "val_df = create_df('valid')"
      ]
    },
    {
      "cell_type": "code",
      "execution_count": null,
      "metadata": {
        "colab": {
          "base_uri": "https://localhost:8080/",
          "height": 206
        },
        "id": "ocn3qBkQpiin",
        "outputId": "88b03791-9ef4-442c-bf3d-ee251216d6a7"
      },
      "outputs": [
        {
          "output_type": "execute_result",
          "data": {
            "text/plain": [
              "   case  acl  meniscus  abnormal\n",
              "0  0000    0         0         1\n",
              "1  0001    1         1         1\n",
              "2  0002    0         0         1\n",
              "3  0003    0         1         1\n",
              "4  0004    0         0         1"
            ],
            "text/html": [
              "\n",
              "  <div id=\"df-a92b6f56-53cc-48c7-a41a-70b964b80e34\" class=\"colab-df-container\">\n",
              "    <div>\n",
              "<style scoped>\n",
              "    .dataframe tbody tr th:only-of-type {\n",
              "        vertical-align: middle;\n",
              "    }\n",
              "\n",
              "    .dataframe tbody tr th {\n",
              "        vertical-align: top;\n",
              "    }\n",
              "\n",
              "    .dataframe thead th {\n",
              "        text-align: right;\n",
              "    }\n",
              "</style>\n",
              "<table border=\"1\" class=\"dataframe\">\n",
              "  <thead>\n",
              "    <tr style=\"text-align: right;\">\n",
              "      <th></th>\n",
              "      <th>case</th>\n",
              "      <th>acl</th>\n",
              "      <th>meniscus</th>\n",
              "      <th>abnormal</th>\n",
              "    </tr>\n",
              "  </thead>\n",
              "  <tbody>\n",
              "    <tr>\n",
              "      <th>0</th>\n",
              "      <td>0000</td>\n",
              "      <td>0</td>\n",
              "      <td>0</td>\n",
              "      <td>1</td>\n",
              "    </tr>\n",
              "    <tr>\n",
              "      <th>1</th>\n",
              "      <td>0001</td>\n",
              "      <td>1</td>\n",
              "      <td>1</td>\n",
              "      <td>1</td>\n",
              "    </tr>\n",
              "    <tr>\n",
              "      <th>2</th>\n",
              "      <td>0002</td>\n",
              "      <td>0</td>\n",
              "      <td>0</td>\n",
              "      <td>1</td>\n",
              "    </tr>\n",
              "    <tr>\n",
              "      <th>3</th>\n",
              "      <td>0003</td>\n",
              "      <td>0</td>\n",
              "      <td>1</td>\n",
              "      <td>1</td>\n",
              "    </tr>\n",
              "    <tr>\n",
              "      <th>4</th>\n",
              "      <td>0004</td>\n",
              "      <td>0</td>\n",
              "      <td>0</td>\n",
              "      <td>1</td>\n",
              "    </tr>\n",
              "  </tbody>\n",
              "</table>\n",
              "</div>\n",
              "    <div class=\"colab-df-buttons\">\n",
              "\n",
              "  <div class=\"colab-df-container\">\n",
              "    <button class=\"colab-df-convert\" onclick=\"convertToInteractive('df-a92b6f56-53cc-48c7-a41a-70b964b80e34')\"\n",
              "            title=\"Convert this dataframe to an interactive table.\"\n",
              "            style=\"display:none;\">\n",
              "\n",
              "  <svg xmlns=\"http://www.w3.org/2000/svg\" height=\"24px\" viewBox=\"0 -960 960 960\">\n",
              "    <path d=\"M120-120v-720h720v720H120Zm60-500h600v-160H180v160Zm220 220h160v-160H400v160Zm0 220h160v-160H400v160ZM180-400h160v-160H180v160Zm440 0h160v-160H620v160ZM180-180h160v-160H180v160Zm440 0h160v-160H620v160Z\"/>\n",
              "  </svg>\n",
              "    </button>\n",
              "\n",
              "  <style>\n",
              "    .colab-df-container {\n",
              "      display:flex;\n",
              "      gap: 12px;\n",
              "    }\n",
              "\n",
              "    .colab-df-convert {\n",
              "      background-color: #E8F0FE;\n",
              "      border: none;\n",
              "      border-radius: 50%;\n",
              "      cursor: pointer;\n",
              "      display: none;\n",
              "      fill: #1967D2;\n",
              "      height: 32px;\n",
              "      padding: 0 0 0 0;\n",
              "      width: 32px;\n",
              "    }\n",
              "\n",
              "    .colab-df-convert:hover {\n",
              "      background-color: #E2EBFA;\n",
              "      box-shadow: 0px 1px 2px rgba(60, 64, 67, 0.3), 0px 1px 3px 1px rgba(60, 64, 67, 0.15);\n",
              "      fill: #174EA6;\n",
              "    }\n",
              "\n",
              "    .colab-df-buttons div {\n",
              "      margin-bottom: 4px;\n",
              "    }\n",
              "\n",
              "    [theme=dark] .colab-df-convert {\n",
              "      background-color: #3B4455;\n",
              "      fill: #D2E3FC;\n",
              "    }\n",
              "\n",
              "    [theme=dark] .colab-df-convert:hover {\n",
              "      background-color: #434B5C;\n",
              "      box-shadow: 0px 1px 3px 1px rgba(0, 0, 0, 0.15);\n",
              "      filter: drop-shadow(0px 1px 2px rgba(0, 0, 0, 0.3));\n",
              "      fill: #FFFFFF;\n",
              "    }\n",
              "  </style>\n",
              "\n",
              "    <script>\n",
              "      const buttonEl =\n",
              "        document.querySelector('#df-a92b6f56-53cc-48c7-a41a-70b964b80e34 button.colab-df-convert');\n",
              "      buttonEl.style.display =\n",
              "        google.colab.kernel.accessAllowed ? 'block' : 'none';\n",
              "\n",
              "      async function convertToInteractive(key) {\n",
              "        const element = document.querySelector('#df-a92b6f56-53cc-48c7-a41a-70b964b80e34');\n",
              "        const dataTable =\n",
              "          await google.colab.kernel.invokeFunction('convertToInteractive',\n",
              "                                                    [key], {});\n",
              "        if (!dataTable) return;\n",
              "\n",
              "        const docLinkHtml = 'Like what you see? Visit the ' +\n",
              "          '<a target=\"_blank\" href=https://colab.research.google.com/notebooks/data_table.ipynb>data table notebook</a>'\n",
              "          + ' to learn more about interactive tables.';\n",
              "        element.innerHTML = '';\n",
              "        dataTable['output_type'] = 'display_data';\n",
              "        await google.colab.output.renderOutput(dataTable, element);\n",
              "        const docLink = document.createElement('div');\n",
              "        docLink.innerHTML = docLinkHtml;\n",
              "        element.appendChild(docLink);\n",
              "      }\n",
              "    </script>\n",
              "  </div>\n",
              "\n",
              "\n",
              "<div id=\"df-c30a224a-020a-4a1f-9ac0-a50c70351f0a\">\n",
              "  <button class=\"colab-df-quickchart\" onclick=\"quickchart('df-c30a224a-020a-4a1f-9ac0-a50c70351f0a')\"\n",
              "            title=\"Suggest charts\"\n",
              "            style=\"display:none;\">\n",
              "\n",
              "<svg xmlns=\"http://www.w3.org/2000/svg\" height=\"24px\"viewBox=\"0 0 24 24\"\n",
              "     width=\"24px\">\n",
              "    <g>\n",
              "        <path d=\"M19 3H5c-1.1 0-2 .9-2 2v14c0 1.1.9 2 2 2h14c1.1 0 2-.9 2-2V5c0-1.1-.9-2-2-2zM9 17H7v-7h2v7zm4 0h-2V7h2v10zm4 0h-2v-4h2v4z\"/>\n",
              "    </g>\n",
              "</svg>\n",
              "  </button>\n",
              "\n",
              "<style>\n",
              "  .colab-df-quickchart {\n",
              "      --bg-color: #E8F0FE;\n",
              "      --fill-color: #1967D2;\n",
              "      --hover-bg-color: #E2EBFA;\n",
              "      --hover-fill-color: #174EA6;\n",
              "      --disabled-fill-color: #AAA;\n",
              "      --disabled-bg-color: #DDD;\n",
              "  }\n",
              "\n",
              "  [theme=dark] .colab-df-quickchart {\n",
              "      --bg-color: #3B4455;\n",
              "      --fill-color: #D2E3FC;\n",
              "      --hover-bg-color: #434B5C;\n",
              "      --hover-fill-color: #FFFFFF;\n",
              "      --disabled-bg-color: #3B4455;\n",
              "      --disabled-fill-color: #666;\n",
              "  }\n",
              "\n",
              "  .colab-df-quickchart {\n",
              "    background-color: var(--bg-color);\n",
              "    border: none;\n",
              "    border-radius: 50%;\n",
              "    cursor: pointer;\n",
              "    display: none;\n",
              "    fill: var(--fill-color);\n",
              "    height: 32px;\n",
              "    padding: 0;\n",
              "    width: 32px;\n",
              "  }\n",
              "\n",
              "  .colab-df-quickchart:hover {\n",
              "    background-color: var(--hover-bg-color);\n",
              "    box-shadow: 0 1px 2px rgba(60, 64, 67, 0.3), 0 1px 3px 1px rgba(60, 64, 67, 0.15);\n",
              "    fill: var(--button-hover-fill-color);\n",
              "  }\n",
              "\n",
              "  .colab-df-quickchart-complete:disabled,\n",
              "  .colab-df-quickchart-complete:disabled:hover {\n",
              "    background-color: var(--disabled-bg-color);\n",
              "    fill: var(--disabled-fill-color);\n",
              "    box-shadow: none;\n",
              "  }\n",
              "\n",
              "  .colab-df-spinner {\n",
              "    border: 2px solid var(--fill-color);\n",
              "    border-color: transparent;\n",
              "    border-bottom-color: var(--fill-color);\n",
              "    animation:\n",
              "      spin 1s steps(1) infinite;\n",
              "  }\n",
              "\n",
              "  @keyframes spin {\n",
              "    0% {\n",
              "      border-color: transparent;\n",
              "      border-bottom-color: var(--fill-color);\n",
              "      border-left-color: var(--fill-color);\n",
              "    }\n",
              "    20% {\n",
              "      border-color: transparent;\n",
              "      border-left-color: var(--fill-color);\n",
              "      border-top-color: var(--fill-color);\n",
              "    }\n",
              "    30% {\n",
              "      border-color: transparent;\n",
              "      border-left-color: var(--fill-color);\n",
              "      border-top-color: var(--fill-color);\n",
              "      border-right-color: var(--fill-color);\n",
              "    }\n",
              "    40% {\n",
              "      border-color: transparent;\n",
              "      border-right-color: var(--fill-color);\n",
              "      border-top-color: var(--fill-color);\n",
              "    }\n",
              "    60% {\n",
              "      border-color: transparent;\n",
              "      border-right-color: var(--fill-color);\n",
              "    }\n",
              "    80% {\n",
              "      border-color: transparent;\n",
              "      border-right-color: var(--fill-color);\n",
              "      border-bottom-color: var(--fill-color);\n",
              "    }\n",
              "    90% {\n",
              "      border-color: transparent;\n",
              "      border-bottom-color: var(--fill-color);\n",
              "    }\n",
              "  }\n",
              "</style>\n",
              "\n",
              "  <script>\n",
              "    async function quickchart(key) {\n",
              "      const quickchartButtonEl =\n",
              "        document.querySelector('#' + key + ' button');\n",
              "      quickchartButtonEl.disabled = true;  // To prevent multiple clicks.\n",
              "      quickchartButtonEl.classList.add('colab-df-spinner');\n",
              "      try {\n",
              "        const charts = await google.colab.kernel.invokeFunction(\n",
              "            'suggestCharts', [key], {});\n",
              "      } catch (error) {\n",
              "        console.error('Error during call to suggestCharts:', error);\n",
              "      }\n",
              "      quickchartButtonEl.classList.remove('colab-df-spinner');\n",
              "      quickchartButtonEl.classList.add('colab-df-quickchart-complete');\n",
              "    }\n",
              "    (() => {\n",
              "      let quickchartButtonEl =\n",
              "        document.querySelector('#df-c30a224a-020a-4a1f-9ac0-a50c70351f0a button');\n",
              "      quickchartButtonEl.style.display =\n",
              "        google.colab.kernel.accessAllowed ? 'block' : 'none';\n",
              "    })();\n",
              "  </script>\n",
              "</div>\n",
              "\n",
              "    </div>\n",
              "  </div>\n"
            ],
            "application/vnd.google.colaboratory.intrinsic+json": {
              "type": "dataframe",
              "variable_name": "train_df",
              "summary": "{\n  \"name\": \"train_df\",\n  \"rows\": 1130,\n  \"fields\": [\n    {\n      \"column\": \"case\",\n      \"properties\": {\n        \"dtype\": \"string\",\n        \"num_unique_values\": 1130,\n        \"samples\": [\n          \"0703\",\n          \"0900\",\n          \"0773\"\n        ],\n        \"semantic_type\": \"\",\n        \"description\": \"\"\n      }\n    },\n    {\n      \"column\": \"acl\",\n      \"properties\": {\n        \"dtype\": \"number\",\n        \"std\": 0,\n        \"min\": 0,\n        \"max\": 1,\n        \"num_unique_values\": 2,\n        \"samples\": [\n          1,\n          0\n        ],\n        \"semantic_type\": \"\",\n        \"description\": \"\"\n      }\n    },\n    {\n      \"column\": \"meniscus\",\n      \"properties\": {\n        \"dtype\": \"number\",\n        \"std\": 0,\n        \"min\": 0,\n        \"max\": 1,\n        \"num_unique_values\": 2,\n        \"samples\": [\n          1,\n          0\n        ],\n        \"semantic_type\": \"\",\n        \"description\": \"\"\n      }\n    },\n    {\n      \"column\": \"abnormal\",\n      \"properties\": {\n        \"dtype\": \"number\",\n        \"std\": 0,\n        \"min\": 0,\n        \"max\": 1,\n        \"num_unique_values\": 2,\n        \"samples\": [\n          0,\n          1\n        ],\n        \"semantic_type\": \"\",\n        \"description\": \"\"\n      }\n    }\n  ]\n}"
            }
          },
          "metadata": {},
          "execution_count": 8
        }
      ],
      "source": [
        "train_df.head()"
      ]
    },
    {
      "cell_type": "code",
      "execution_count": null,
      "metadata": {
        "colab": {
          "base_uri": "https://localhost:8080/",
          "height": 206
        },
        "id": "1olBuZPeSBSj",
        "outputId": "88f600c0-b775-498c-bb92-11be1042ce96"
      },
      "outputs": [
        {
          "output_type": "execute_result",
          "data": {
            "text/plain": [
              "      case  acl  meniscus  abnormal\n",
              "1125  1125    0         1         1\n",
              "1126  1126    0         1         1\n",
              "1127  1127    0         0         0\n",
              "1128  1128    0         0         1\n",
              "1129  1129    1         0         1"
            ],
            "text/html": [
              "\n",
              "  <div id=\"df-fbe4598e-6dff-4708-bb3f-fcbdb33e76e0\" class=\"colab-df-container\">\n",
              "    <div>\n",
              "<style scoped>\n",
              "    .dataframe tbody tr th:only-of-type {\n",
              "        vertical-align: middle;\n",
              "    }\n",
              "\n",
              "    .dataframe tbody tr th {\n",
              "        vertical-align: top;\n",
              "    }\n",
              "\n",
              "    .dataframe thead th {\n",
              "        text-align: right;\n",
              "    }\n",
              "</style>\n",
              "<table border=\"1\" class=\"dataframe\">\n",
              "  <thead>\n",
              "    <tr style=\"text-align: right;\">\n",
              "      <th></th>\n",
              "      <th>case</th>\n",
              "      <th>acl</th>\n",
              "      <th>meniscus</th>\n",
              "      <th>abnormal</th>\n",
              "    </tr>\n",
              "  </thead>\n",
              "  <tbody>\n",
              "    <tr>\n",
              "      <th>1125</th>\n",
              "      <td>1125</td>\n",
              "      <td>0</td>\n",
              "      <td>1</td>\n",
              "      <td>1</td>\n",
              "    </tr>\n",
              "    <tr>\n",
              "      <th>1126</th>\n",
              "      <td>1126</td>\n",
              "      <td>0</td>\n",
              "      <td>1</td>\n",
              "      <td>1</td>\n",
              "    </tr>\n",
              "    <tr>\n",
              "      <th>1127</th>\n",
              "      <td>1127</td>\n",
              "      <td>0</td>\n",
              "      <td>0</td>\n",
              "      <td>0</td>\n",
              "    </tr>\n",
              "    <tr>\n",
              "      <th>1128</th>\n",
              "      <td>1128</td>\n",
              "      <td>0</td>\n",
              "      <td>0</td>\n",
              "      <td>1</td>\n",
              "    </tr>\n",
              "    <tr>\n",
              "      <th>1129</th>\n",
              "      <td>1129</td>\n",
              "      <td>1</td>\n",
              "      <td>0</td>\n",
              "      <td>1</td>\n",
              "    </tr>\n",
              "  </tbody>\n",
              "</table>\n",
              "</div>\n",
              "    <div class=\"colab-df-buttons\">\n",
              "\n",
              "  <div class=\"colab-df-container\">\n",
              "    <button class=\"colab-df-convert\" onclick=\"convertToInteractive('df-fbe4598e-6dff-4708-bb3f-fcbdb33e76e0')\"\n",
              "            title=\"Convert this dataframe to an interactive table.\"\n",
              "            style=\"display:none;\">\n",
              "\n",
              "  <svg xmlns=\"http://www.w3.org/2000/svg\" height=\"24px\" viewBox=\"0 -960 960 960\">\n",
              "    <path d=\"M120-120v-720h720v720H120Zm60-500h600v-160H180v160Zm220 220h160v-160H400v160Zm0 220h160v-160H400v160ZM180-400h160v-160H180v160Zm440 0h160v-160H620v160ZM180-180h160v-160H180v160Zm440 0h160v-160H620v160Z\"/>\n",
              "  </svg>\n",
              "    </button>\n",
              "\n",
              "  <style>\n",
              "    .colab-df-container {\n",
              "      display:flex;\n",
              "      gap: 12px;\n",
              "    }\n",
              "\n",
              "    .colab-df-convert {\n",
              "      background-color: #E8F0FE;\n",
              "      border: none;\n",
              "      border-radius: 50%;\n",
              "      cursor: pointer;\n",
              "      display: none;\n",
              "      fill: #1967D2;\n",
              "      height: 32px;\n",
              "      padding: 0 0 0 0;\n",
              "      width: 32px;\n",
              "    }\n",
              "\n",
              "    .colab-df-convert:hover {\n",
              "      background-color: #E2EBFA;\n",
              "      box-shadow: 0px 1px 2px rgba(60, 64, 67, 0.3), 0px 1px 3px 1px rgba(60, 64, 67, 0.15);\n",
              "      fill: #174EA6;\n",
              "    }\n",
              "\n",
              "    .colab-df-buttons div {\n",
              "      margin-bottom: 4px;\n",
              "    }\n",
              "\n",
              "    [theme=dark] .colab-df-convert {\n",
              "      background-color: #3B4455;\n",
              "      fill: #D2E3FC;\n",
              "    }\n",
              "\n",
              "    [theme=dark] .colab-df-convert:hover {\n",
              "      background-color: #434B5C;\n",
              "      box-shadow: 0px 1px 3px 1px rgba(0, 0, 0, 0.15);\n",
              "      filter: drop-shadow(0px 1px 2px rgba(0, 0, 0, 0.3));\n",
              "      fill: #FFFFFF;\n",
              "    }\n",
              "  </style>\n",
              "\n",
              "    <script>\n",
              "      const buttonEl =\n",
              "        document.querySelector('#df-fbe4598e-6dff-4708-bb3f-fcbdb33e76e0 button.colab-df-convert');\n",
              "      buttonEl.style.display =\n",
              "        google.colab.kernel.accessAllowed ? 'block' : 'none';\n",
              "\n",
              "      async function convertToInteractive(key) {\n",
              "        const element = document.querySelector('#df-fbe4598e-6dff-4708-bb3f-fcbdb33e76e0');\n",
              "        const dataTable =\n",
              "          await google.colab.kernel.invokeFunction('convertToInteractive',\n",
              "                                                    [key], {});\n",
              "        if (!dataTable) return;\n",
              "\n",
              "        const docLinkHtml = 'Like what you see? Visit the ' +\n",
              "          '<a target=\"_blank\" href=https://colab.research.google.com/notebooks/data_table.ipynb>data table notebook</a>'\n",
              "          + ' to learn more about interactive tables.';\n",
              "        element.innerHTML = '';\n",
              "        dataTable['output_type'] = 'display_data';\n",
              "        await google.colab.output.renderOutput(dataTable, element);\n",
              "        const docLink = document.createElement('div');\n",
              "        docLink.innerHTML = docLinkHtml;\n",
              "        element.appendChild(docLink);\n",
              "      }\n",
              "    </script>\n",
              "  </div>\n",
              "\n",
              "\n",
              "<div id=\"df-a154da48-b1f3-46ef-b990-3c1742238e19\">\n",
              "  <button class=\"colab-df-quickchart\" onclick=\"quickchart('df-a154da48-b1f3-46ef-b990-3c1742238e19')\"\n",
              "            title=\"Suggest charts\"\n",
              "            style=\"display:none;\">\n",
              "\n",
              "<svg xmlns=\"http://www.w3.org/2000/svg\" height=\"24px\"viewBox=\"0 0 24 24\"\n",
              "     width=\"24px\">\n",
              "    <g>\n",
              "        <path d=\"M19 3H5c-1.1 0-2 .9-2 2v14c0 1.1.9 2 2 2h14c1.1 0 2-.9 2-2V5c0-1.1-.9-2-2-2zM9 17H7v-7h2v7zm4 0h-2V7h2v10zm4 0h-2v-4h2v4z\"/>\n",
              "    </g>\n",
              "</svg>\n",
              "  </button>\n",
              "\n",
              "<style>\n",
              "  .colab-df-quickchart {\n",
              "      --bg-color: #E8F0FE;\n",
              "      --fill-color: #1967D2;\n",
              "      --hover-bg-color: #E2EBFA;\n",
              "      --hover-fill-color: #174EA6;\n",
              "      --disabled-fill-color: #AAA;\n",
              "      --disabled-bg-color: #DDD;\n",
              "  }\n",
              "\n",
              "  [theme=dark] .colab-df-quickchart {\n",
              "      --bg-color: #3B4455;\n",
              "      --fill-color: #D2E3FC;\n",
              "      --hover-bg-color: #434B5C;\n",
              "      --hover-fill-color: #FFFFFF;\n",
              "      --disabled-bg-color: #3B4455;\n",
              "      --disabled-fill-color: #666;\n",
              "  }\n",
              "\n",
              "  .colab-df-quickchart {\n",
              "    background-color: var(--bg-color);\n",
              "    border: none;\n",
              "    border-radius: 50%;\n",
              "    cursor: pointer;\n",
              "    display: none;\n",
              "    fill: var(--fill-color);\n",
              "    height: 32px;\n",
              "    padding: 0;\n",
              "    width: 32px;\n",
              "  }\n",
              "\n",
              "  .colab-df-quickchart:hover {\n",
              "    background-color: var(--hover-bg-color);\n",
              "    box-shadow: 0 1px 2px rgba(60, 64, 67, 0.3), 0 1px 3px 1px rgba(60, 64, 67, 0.15);\n",
              "    fill: var(--button-hover-fill-color);\n",
              "  }\n",
              "\n",
              "  .colab-df-quickchart-complete:disabled,\n",
              "  .colab-df-quickchart-complete:disabled:hover {\n",
              "    background-color: var(--disabled-bg-color);\n",
              "    fill: var(--disabled-fill-color);\n",
              "    box-shadow: none;\n",
              "  }\n",
              "\n",
              "  .colab-df-spinner {\n",
              "    border: 2px solid var(--fill-color);\n",
              "    border-color: transparent;\n",
              "    border-bottom-color: var(--fill-color);\n",
              "    animation:\n",
              "      spin 1s steps(1) infinite;\n",
              "  }\n",
              "\n",
              "  @keyframes spin {\n",
              "    0% {\n",
              "      border-color: transparent;\n",
              "      border-bottom-color: var(--fill-color);\n",
              "      border-left-color: var(--fill-color);\n",
              "    }\n",
              "    20% {\n",
              "      border-color: transparent;\n",
              "      border-left-color: var(--fill-color);\n",
              "      border-top-color: var(--fill-color);\n",
              "    }\n",
              "    30% {\n",
              "      border-color: transparent;\n",
              "      border-left-color: var(--fill-color);\n",
              "      border-top-color: var(--fill-color);\n",
              "      border-right-color: var(--fill-color);\n",
              "    }\n",
              "    40% {\n",
              "      border-color: transparent;\n",
              "      border-right-color: var(--fill-color);\n",
              "      border-top-color: var(--fill-color);\n",
              "    }\n",
              "    60% {\n",
              "      border-color: transparent;\n",
              "      border-right-color: var(--fill-color);\n",
              "    }\n",
              "    80% {\n",
              "      border-color: transparent;\n",
              "      border-right-color: var(--fill-color);\n",
              "      border-bottom-color: var(--fill-color);\n",
              "    }\n",
              "    90% {\n",
              "      border-color: transparent;\n",
              "      border-bottom-color: var(--fill-color);\n",
              "    }\n",
              "  }\n",
              "</style>\n",
              "\n",
              "  <script>\n",
              "    async function quickchart(key) {\n",
              "      const quickchartButtonEl =\n",
              "        document.querySelector('#' + key + ' button');\n",
              "      quickchartButtonEl.disabled = true;  // To prevent multiple clicks.\n",
              "      quickchartButtonEl.classList.add('colab-df-spinner');\n",
              "      try {\n",
              "        const charts = await google.colab.kernel.invokeFunction(\n",
              "            'suggestCharts', [key], {});\n",
              "      } catch (error) {\n",
              "        console.error('Error during call to suggestCharts:', error);\n",
              "      }\n",
              "      quickchartButtonEl.classList.remove('colab-df-spinner');\n",
              "      quickchartButtonEl.classList.add('colab-df-quickchart-complete');\n",
              "    }\n",
              "    (() => {\n",
              "      let quickchartButtonEl =\n",
              "        document.querySelector('#df-a154da48-b1f3-46ef-b990-3c1742238e19 button');\n",
              "      quickchartButtonEl.style.display =\n",
              "        google.colab.kernel.accessAllowed ? 'block' : 'none';\n",
              "    })();\n",
              "  </script>\n",
              "</div>\n",
              "\n",
              "    </div>\n",
              "  </div>\n"
            ],
            "application/vnd.google.colaboratory.intrinsic+json": {
              "type": "dataframe",
              "summary": "{\n  \"name\": \"train_df\",\n  \"rows\": 5,\n  \"fields\": [\n    {\n      \"column\": \"case\",\n      \"properties\": {\n        \"dtype\": \"string\",\n        \"num_unique_values\": 5,\n        \"samples\": [\n          \"1126\",\n          \"1129\",\n          \"1127\"\n        ],\n        \"semantic_type\": \"\",\n        \"description\": \"\"\n      }\n    },\n    {\n      \"column\": \"acl\",\n      \"properties\": {\n        \"dtype\": \"number\",\n        \"std\": 0,\n        \"min\": 0,\n        \"max\": 1,\n        \"num_unique_values\": 2,\n        \"samples\": [\n          1,\n          0\n        ],\n        \"semantic_type\": \"\",\n        \"description\": \"\"\n      }\n    },\n    {\n      \"column\": \"meniscus\",\n      \"properties\": {\n        \"dtype\": \"number\",\n        \"std\": 0,\n        \"min\": 0,\n        \"max\": 1,\n        \"num_unique_values\": 2,\n        \"samples\": [\n          0,\n          1\n        ],\n        \"semantic_type\": \"\",\n        \"description\": \"\"\n      }\n    },\n    {\n      \"column\": \"abnormal\",\n      \"properties\": {\n        \"dtype\": \"number\",\n        \"std\": 0,\n        \"min\": 0,\n        \"max\": 1,\n        \"num_unique_values\": 2,\n        \"samples\": [\n          0,\n          1\n        ],\n        \"semantic_type\": \"\",\n        \"description\": \"\"\n      }\n    }\n  ]\n}"
            }
          },
          "metadata": {},
          "execution_count": 9
        }
      ],
      "source": [
        "train_df.tail()"
      ]
    },
    {
      "cell_type": "markdown",
      "metadata": {
        "id": "jQKnS-iEzjEn"
      },
      "source": [
        "Verificare valori lipsă în dataframe"
      ]
    },
    {
      "cell_type": "code",
      "execution_count": null,
      "metadata": {
        "colab": {
          "base_uri": "https://localhost:8080/"
        },
        "id": "yBjFMEASy35l",
        "outputId": "943a5cf8-51e1-4acd-d88b-b5afacdae8b7"
      },
      "outputs": [
        {
          "output_type": "stream",
          "name": "stdout",
          "text": [
            "Nu există valori lipsă în DataFrame-ul de antrenare!\n"
          ]
        }
      ],
      "source": [
        "if train_df.isnull().values.any():\n",
        "    print(\"Există valori lipsă în DataFrame-ul de antrenare!\")\n",
        "else:\n",
        "    print(\"Nu există valori lipsă în DataFrame-ul de antrenare!\")"
      ]
    },
    {
      "cell_type": "code",
      "execution_count": null,
      "metadata": {
        "colab": {
          "base_uri": "https://localhost:8080/"
        },
        "id": "fa50nVxazYf7",
        "outputId": "5b45c90e-c061-419f-bbba-1f40d8639117"
      },
      "outputs": [
        {
          "output_type": "stream",
          "name": "stdout",
          "text": [
            "Nu există valori lipsă în DataFrame-ul de validare!\n"
          ]
        }
      ],
      "source": [
        "if val_df.isnull().values.any():\n",
        "    print(\"Există valori lipsă în DataFrame-ul de validare!\")\n",
        "else:\n",
        "    print(\"Nu există valori lipsă în DataFrame-ul de validare!\")"
      ]
    },
    {
      "cell_type": "markdown",
      "metadata": {
        "id": "nZqc_41KzotH"
      },
      "source": [
        "Verificare distribuție clase"
      ]
    },
    {
      "cell_type": "code",
      "execution_count": null,
      "metadata": {
        "colab": {
          "base_uri": "https://localhost:8080/"
        },
        "id": "WM61PdkoUVAm",
        "outputId": "afaa2ce3-a5aa-471f-b5ff-8eb00b4dbc76"
      },
      "outputs": [
        {
          "output_type": "stream",
          "name": "stdout",
          "text": [
            "acl\n",
            "train {0: 922, 1: 208}\n",
            "val {0: 66, 1: 54}\n",
            "\n",
            "meniscus\n",
            "train {0: 733, 1: 397}\n",
            "val {0: 68, 1: 52}\n",
            "\n",
            "abnormal\n",
            "train {1: 913, 0: 217}\n",
            "val {1: 95, 0: 25}\n",
            "\n"
          ]
        }
      ],
      "source": [
        "for label in ['acl','meniscus','abnormal']:\n",
        "    print(label)\n",
        "    print('train',train_df[label].value_counts().to_dict())\n",
        "    print('val',val_df[label].value_counts().to_dict())\n",
        "    print('')"
      ]
    },
    {
      "cell_type": "markdown",
      "metadata": {
        "id": "up1v-l95g7YP"
      },
      "source": [
        "Echlibrare distribuție clase"
      ]
    },
    {
      "cell_type": "code",
      "execution_count": null,
      "metadata": {
        "colab": {
          "base_uri": "https://localhost:8080/"
        },
        "id": "O-L5l7dz1Beh",
        "outputId": "bfaf3543-2b42-4cb4-9bde-571f42e1b9e4"
      },
      "outputs": [
        {
          "output_type": "stream",
          "name": "stdout",
          "text": [
            "abnormal\n",
            "1    913\n",
            "0    913\n",
            "Name: count, dtype: int64\n"
          ]
        }
      ],
      "source": [
        "from sklearn.utils import resample\n",
        "\n",
        "train_abnormal_majority = train_df[train_df['abnormal'] == 1]\n",
        "train_abnormal_minority = train_df[train_df['abnormal'] == 0]\n",
        "\n",
        "train_abnormal_minority_oversampled = resample(\n",
        "    train_abnormal_minority,\n",
        "    replace=True,\n",
        "    n_samples=len(train_abnormal_majority),\n",
        "    random_state=42\n",
        ")\n",
        "\n",
        "train_df_abnormal_balanced = pd.concat([train_abnormal_majority, train_abnormal_minority_oversampled])\n",
        "\n",
        "print(train_df_abnormal_balanced['abnormal'].value_counts())"
      ]
    },
    {
      "cell_type": "code",
      "execution_count": null,
      "metadata": {
        "colab": {
          "base_uri": "https://localhost:8080/"
        },
        "id": "3tRoeK9y1CQy",
        "outputId": "4e83e991-8208-4831-b2d5-5bdf27f12126"
      },
      "outputs": [
        {
          "output_type": "stream",
          "name": "stdout",
          "text": [
            "acl\n",
            "train {0: 1618, 1: 208}\n",
            "\n",
            "meniscus\n",
            "train {0: 1429, 1: 397}\n",
            "\n",
            "abnormal\n",
            "train {1: 913, 0: 913}\n",
            "\n"
          ]
        }
      ],
      "source": [
        "for label in ['acl','meniscus','abnormal']:\n",
        "    print(label)\n",
        "    print('train', train_df_abnormal_balanced[label].value_counts().to_dict())\n",
        "    print('')"
      ]
    },
    {
      "cell_type": "code",
      "execution_count": null,
      "metadata": {
        "id": "VTGTD_fA3W1c"
      },
      "outputs": [],
      "source": [
        "# se observă că nu este posibilă o distribuție egală a claselor pentru toate cele 3 label-uri simultan (acl, meniscus, abnormal)"
      ]
    },
    {
      "cell_type": "code",
      "execution_count": null,
      "metadata": {
        "colab": {
          "base_uri": "https://localhost:8080/"
        },
        "id": "ypwZWY453ByV",
        "outputId": "7ec77269-eef6-4432-e76a-649bac742f1d"
      },
      "outputs": [
        {
          "output_type": "stream",
          "name": "stdout",
          "text": [
            "217 433 0 83 0 272 0 125\n"
          ]
        }
      ],
      "source": [
        "no_pers1 = len(train_df[(train_df['meniscus'] == 0) & (train_df['acl'] == 0) & (train_df['abnormal'] == 0)])\n",
        "no_pers2 = len(train_df[(train_df['meniscus'] == 0) & (train_df['acl'] == 0) & (train_df['abnormal'] == 1)])\n",
        "no_pers3 = len(train_df[(train_df['meniscus'] == 0) & (train_df['acl'] == 1) & (train_df['abnormal'] == 0)])\n",
        "no_pers4 = len(train_df[(train_df['meniscus'] == 0) & (train_df['acl'] == 1) & (train_df['abnormal'] == 1)])\n",
        "no_pers5 = len(train_df[(train_df['meniscus'] == 1) & (train_df['acl'] == 0) & (train_df['abnormal'] == 0)])\n",
        "no_pers6 = len(train_df[(train_df['meniscus'] == 1) & (train_df['acl'] == 0) & (train_df['abnormal'] == 1)])\n",
        "no_pers7 = len(train_df[(train_df['meniscus'] == 1) & (train_df['acl'] == 1) & (train_df['abnormal'] == 0)])\n",
        "no_pers8 = len(train_df[(train_df['meniscus'] == 1) & (train_df['acl'] == 1) & (train_df['abnormal'] == 1)])\n",
        "print(no_pers1, no_pers2, no_pers3, no_pers4, no_pers5, no_pers6, no_pers7, no_pers8)\n",
        "\n",
        "# se observă ca exista:\n",
        "# 217 de persoane cu nicio problema\n",
        "# nicio persoana care sa aiba probleme doar la acl\n",
        "# nicio persoana care sa aiba probleme doar la menisc\n",
        "# nicio persoana care sa aiba probleme doar la acl si menisc\n",
        "# 125 de persoana care au probleme cu toate 3"
      ]
    },
    {
      "cell_type": "code",
      "execution_count": null,
      "metadata": {
        "colab": {
          "base_uri": "https://localhost:8080/",
          "height": 607
        },
        "id": "sackwMBL7_rL",
        "outputId": "d9fcac54-7bac-4b31-b112-094b930721d7"
      },
      "outputs": [
        {
          "output_type": "display_data",
          "data": {
            "text/plain": [
              "<Figure size 1000x600 with 1 Axes>"
            ],
            "image/png": "[encoded data removed]"
          },
          "metadata": {}
        }
      ],
      "source": [
        "categorii = [\n",
        "    \"Fără probleme\",\n",
        "    \"Doar abnormalități\",\n",
        "    \"Doar ACL\",\n",
        "    \"ACL și abnormalități\",\n",
        "    \"Doar menisc\",\n",
        "    \"Menisc și abnormalități\",\n",
        "    \"ACL și menisc\",\n",
        "    \"Probleme cu toate 3\",\n",
        "]\n",
        "valori = [no_pers1, no_pers2, no_pers3, no_pers4, no_pers5, no_pers6, no_pers7, no_pers8]\n",
        "\n",
        "plt.figure(figsize=(10, 6))\n",
        "plt.bar(categorii, valori, color='orange')\n",
        "plt.title(\"Distribuția problemelor de sănătate\", fontsize=14)\n",
        "plt.xlabel(\"Categorie\", fontsize=12)\n",
        "plt.ylabel(\"Număr de persoane\", fontsize=12)\n",
        "plt.xticks(rotation=45, ha=\"right\", fontsize=10)\n",
        "plt.tight_layout()\n",
        "plt.show()"
      ]
    },
    {
      "cell_type": "code",
      "execution_count": null,
      "metadata": {
        "id": "dR6RvJBDFVxT"
      },
      "outputs": [],
      "source": [
        "train_df['axial'] = train_df['case'].apply(lambda x: os.path.join(train_dir, 'axial', f\"{x}.npy\"))\n",
        "train_df['coronal'] = train_df['case'].apply(lambda x: os.path.join(train_dir, 'coronal', f\"{x}.npy\"))\n",
        "train_df['sagittal'] = train_df['case'].apply(lambda x: os.path.join(train_dir, 'sagittal', f\"{x}.npy\"))"
      ]
    },
    {
      "cell_type": "code",
      "execution_count": null,
      "metadata": {
        "colab": {
          "base_uri": "https://localhost:8080/",
          "height": 206
        },
        "id": "KmuWU20vMCKW",
        "outputId": "218f9fcf-8c3c-46df-8e60-fb199900656e"
      },
      "outputs": [
        {
          "output_type": "execute_result",
          "data": {
            "text/plain": [
              "   case  acl  meniscus  abnormal                                      axial  \\\n",
              "0  0000    0         0         1  knee_data/MRNet-v1.0/train/axial/0000.npy   \n",
              "1  0001    1         1         1  knee_data/MRNet-v1.0/train/axial/0001.npy   \n",
              "2  0002    0         0         1  knee_data/MRNet-v1.0/train/axial/0002.npy   \n",
              "3  0003    0         1         1  knee_data/MRNet-v1.0/train/axial/0003.npy   \n",
              "4  0004    0         0         1  knee_data/MRNet-v1.0/train/axial/0004.npy   \n",
              "\n",
              "                                       coronal  \\\n",
              "0  knee_data/MRNet-v1.0/train/coronal/0000.npy   \n",
              "1  knee_data/MRNet-v1.0/train/coronal/0001.npy   \n",
              "2  knee_data/MRNet-v1.0/train/coronal/0002.npy   \n",
              "3  knee_data/MRNet-v1.0/train/coronal/0003.npy   \n",
              "4  knee_data/MRNet-v1.0/train/coronal/0004.npy   \n",
              "\n",
              "                                       sagittal  \n",
              "0  knee_data/MRNet-v1.0/train/sagittal/0000.npy  \n",
              "1  knee_data/MRNet-v1.0/train/sagittal/0001.npy  \n",
              "2  knee_data/MRNet-v1.0/train/sagittal/0002.npy  \n",
              "3  knee_data/MRNet-v1.0/train/sagittal/0003.npy  \n",
              "4  knee_data/MRNet-v1.0/train/sagittal/0004.npy  "
            ],
            "text/html": [
              "\n",
              "  <div id=\"df-a6e03717-ff08-47e5-a7f1-51de762f72ad\" class=\"colab-df-container\">\n",
              "    <div>\n",
              "<style scoped>\n",
              "    .dataframe tbody tr th:only-of-type {\n",
              "        vertical-align: middle;\n",
              "    }\n",
              "\n",
              "    .dataframe tbody tr th {\n",
              "        vertical-align: top;\n",
              "    }\n",
              "\n",
              "    .dataframe thead th {\n",
              "        text-align: right;\n",
              "    }\n",
              "</style>\n",
              "<table border=\"1\" class=\"dataframe\">\n",
              "  <thead>\n",
              "    <tr style=\"text-align: right;\">\n",
              "      <th></th>\n",
              "      <th>case</th>\n",
              "      <th>acl</th>\n",
              "      <th>meniscus</th>\n",
              "      <th>abnormal</th>\n",
              "      <th>axial</th>\n",
              "      <th>coronal</th>\n",
              "      <th>sagittal</th>\n",
              "    </tr>\n",
              "  </thead>\n",
              "  <tbody>\n",
              "    <tr>\n",
              "      <th>0</th>\n",
              "      <td>0000</td>\n",
              "      <td>0</td>\n",
              "      <td>0</td>\n",
              "      <td>1</td>\n",
              "      <td>knee_data/MRNet-v1.0/train/axial/0000.npy</td>\n",
              "      <td>knee_data/MRNet-v1.0/train/coronal/0000.npy</td>\n",
              "      <td>knee_data/MRNet-v1.0/train/sagittal/0000.npy</td>\n",
              "    </tr>\n",
              "    <tr>\n",
              "      <th>1</th>\n",
              "      <td>0001</td>\n",
              "      <td>1</td>\n",
              "      <td>1</td>\n",
              "      <td>1</td>\n",
              "      <td>knee_data/MRNet-v1.0/train/axial/0001.npy</td>\n",
              "      <td>knee_data/MRNet-v1.0/train/coronal/0001.npy</td>\n",
              "      <td>knee_data/MRNet-v1.0/train/sagittal/0001.npy</td>\n",
              "    </tr>\n",
              "    <tr>\n",
              "      <th>2</th>\n",
              "      <td>0002</td>\n",
              "      <td>0</td>\n",
              "      <td>0</td>\n",
              "      <td>1</td>\n",
              "      <td>knee_data/MRNet-v1.0/train/axial/0002.npy</td>\n",
              "      <td>knee_data/MRNet-v1.0/train/coronal/0002.npy</td>\n",
              "      <td>knee_data/MRNet-v1.0/train/sagittal/0002.npy</td>\n",
              "    </tr>\n",
              "    <tr>\n",
              "      <th>3</th>\n",
              "      <td>0003</td>\n",
              "      <td>0</td>\n",
              "      <td>1</td>\n",
              "      <td>1</td>\n",
              "      <td>knee_data/MRNet-v1.0/train/axial/0003.npy</td>\n",
              "      <td>knee_data/MRNet-v1.0/train/coronal/0003.npy</td>\n",
              "      <td>knee_data/MRNet-v1.0/train/sagittal/0003.npy</td>\n",
              "    </tr>\n",
              "    <tr>\n",
              "      <th>4</th>\n",
              "      <td>0004</td>\n",
              "      <td>0</td>\n",
              "      <td>0</td>\n",
              "      <td>1</td>\n",
              "      <td>knee_data/MRNet-v1.0/train/axial/0004.npy</td>\n",
              "      <td>knee_data/MRNet-v1.0/train/coronal/0004.npy</td>\n",
              "      <td>knee_data/MRNet-v1.0/train/sagittal/0004.npy</td>\n",
              "    </tr>\n",
              "  </tbody>\n",
              "</table>\n",
              "</div>\n",
              "    <div class=\"colab-df-buttons\">\n",
              "\n",
              "  <div class=\"colab-df-container\">\n",
              "    <button class=\"colab-df-convert\" onclick=\"convertToInteractive('df-a6e03717-ff08-47e5-a7f1-51de762f72ad')\"\n",
              "            title=\"Convert this dataframe to an interactive table.\"\n",
              "            style=\"display:none;\">\n",
              "\n",
              "  <svg xmlns=\"http://www.w3.org/2000/svg\" height=\"24px\" viewBox=\"0 -960 960 960\">\n",
              "    <path d=\"M120-120v-720h720v720H120Zm60-500h600v-160H180v160Zm220 220h160v-160H400v160Zm0 220h160v-160H400v160ZM180-400h160v-160H180v160Zm440 0h160v-160H620v160ZM180-180h160v-160H180v160Zm440 0h160v-160H620v160Z\"/>\n",
              "  </svg>\n",
              "    </button>\n",
              "\n",
              "  <style>\n",
              "    .colab-df-container {\n",
              "      display:flex;\n",
              "      gap: 12px;\n",
              "    }\n",
              "\n",
              "    .colab-df-convert {\n",
              "      background-color: #E8F0FE;\n",
              "      border: none;\n",
              "      border-radius: 50%;\n",
              "      cursor: pointer;\n",
              "      display: none;\n",
              "      fill: #1967D2;\n",
              "      height: 32px;\n",
              "      padding: 0 0 0 0;\n",
              "      width: 32px;\n",
              "    }\n",
              "\n",
              "    .colab-df-convert:hover {\n",
              "      background-color: #E2EBFA;\n",
              "      box-shadow: 0px 1px 2px rgba(60, 64, 67, 0.3), 0px 1px 3px 1px rgba(60, 64, 67, 0.15);\n",
              "      fill: #174EA6;\n",
              "    }\n",
              "\n",
              "    .colab-df-buttons div {\n",
              "      margin-bottom: 4px;\n",
              "    }\n",
              "\n",
              "    [theme=dark] .colab-df-convert {\n",
              "      background-color: #3B4455;\n",
              "      fill: #D2E3FC;\n",
              "    }\n",
              "\n",
              "    [theme=dark] .colab-df-convert:hover {\n",
              "      background-color: #434B5C;\n",
              "      box-shadow: 0px 1px 3px 1px rgba(0, 0, 0, 0.15);\n",
              "      filter: drop-shadow(0px 1px 2px rgba(0, 0, 0, 0.3));\n",
              "      fill: #FFFFFF;\n",
              "    }\n",
              "  </style>\n",
              "\n",
              "    <script>\n",
              "      const buttonEl =\n",
              "        document.querySelector('#df-a6e03717-ff08-47e5-a7f1-51de762f72ad button.colab-df-convert');\n",
              "      buttonEl.style.display =\n",
              "        google.colab.kernel.accessAllowed ? 'block' : 'none';\n",
              "\n",
              "      async function convertToInteractive(key) {\n",
              "        const element = document.querySelector('#df-a6e03717-ff08-47e5-a7f1-51de762f72ad');\n",
              "        const dataTable =\n",
              "          await google.colab.kernel.invokeFunction('convertToInteractive',\n",
              "                                                    [key], {});\n",
              "        if (!dataTable) return;\n",
              "\n",
              "        const docLinkHtml = 'Like what you see? Visit the ' +\n",
              "          '<a target=\"_blank\" href=https://colab.research.google.com/notebooks/data_table.ipynb>data table notebook</a>'\n",
              "          + ' to learn more about interactive tables.';\n",
              "        element.innerHTML = '';\n",
              "        dataTable['output_type'] = 'display_data';\n",
              "        await google.colab.output.renderOutput(dataTable, element);\n",
              "        const docLink = document.createElement('div');\n",
              "        docLink.innerHTML = docLinkHtml;\n",
              "        element.appendChild(docLink);\n",
              "      }\n",
              "    </script>\n",
              "  </div>\n",
              "\n",
              "\n",
              "<div id=\"df-30529d68-305d-487c-9a52-e46f800519db\">\n",
              "  <button class=\"colab-df-quickchart\" onclick=\"quickchart('df-30529d68-305d-487c-9a52-e46f800519db')\"\n",
              "            title=\"Suggest charts\"\n",
              "            style=\"display:none;\">\n",
              "\n",
              "<svg xmlns=\"http://www.w3.org/2000/svg\" height=\"24px\"viewBox=\"0 0 24 24\"\n",
              "     width=\"24px\">\n",
              "    <g>\n",
              "        <path d=\"M19 3H5c-1.1 0-2 .9-2 2v14c0 1.1.9 2 2 2h14c1.1 0 2-.9 2-2V5c0-1.1-.9-2-2-2zM9 17H7v-7h2v7zm4 0h-2V7h2v10zm4 0h-2v-4h2v4z\"/>\n",
              "    </g>\n",
              "</svg>\n",
              "  </button>\n",
              "\n",
              "<style>\n",
              "  .colab-df-quickchart {\n",
              "      --bg-color: #E8F0FE;\n",
              "      --fill-color: #1967D2;\n",
              "      --hover-bg-color: #E2EBFA;\n",
              "      --hover-fill-color: #174EA6;\n",
              "      --disabled-fill-color: #AAA;\n",
              "      --disabled-bg-color: #DDD;\n",
              "  }\n",
              "\n",
              "  [theme=dark] .colab-df-quickchart {\n",
              "      --bg-color: #3B4455;\n",
              "      --fill-color: #D2E3FC;\n",
              "      --hover-bg-color: #434B5C;\n",
              "      --hover-fill-color: #FFFFFF;\n",
              "      --disabled-bg-color: #3B4455;\n",
              "      --disabled-fill-color: #666;\n",
              "  }\n",
              "\n",
              "  .colab-df-quickchart {\n",
              "    background-color: var(--bg-color);\n",
              "    border: none;\n",
              "    border-radius: 50%;\n",
              "    cursor: pointer;\n",
              "    display: none;\n",
              "    fill: var(--fill-color);\n",
              "    height: 32px;\n",
              "    padding: 0;\n",
              "    width: 32px;\n",
              "  }\n",
              "\n",
              "  .colab-df-quickchart:hover {\n",
              "    background-color: var(--hover-bg-color);\n",
              "    box-shadow: 0 1px 2px rgba(60, 64, 67, 0.3), 0 1px 3px 1px rgba(60, 64, 67, 0.15);\n",
              "    fill: var(--button-hover-fill-color);\n",
              "  }\n",
              "\n",
              "  .colab-df-quickchart-complete:disabled,\n",
              "  .colab-df-quickchart-complete:disabled:hover {\n",
              "    background-color: var(--disabled-bg-color);\n",
              "    fill: var(--disabled-fill-color);\n",
              "    box-shadow: none;\n",
              "  }\n",
              "\n",
              "  .colab-df-spinner {\n",
              "    border: 2px solid var(--fill-color);\n",
              "    border-color: transparent;\n",
              "    border-bottom-color: var(--fill-color);\n",
              "    animation:\n",
              "      spin 1s steps(1) infinite;\n",
              "  }\n",
              "\n",
              "  @keyframes spin {\n",
              "    0% {\n",
              "      border-color: transparent;\n",
              "      border-bottom-color: var(--fill-color);\n",
              "      border-left-color: var(--fill-color);\n",
              "    }\n",
              "    20% {\n",
              "      border-color: transparent;\n",
              "      border-left-color: var(--fill-color);\n",
              "      border-top-color: var(--fill-color);\n",
              "    }\n",
              "    30% {\n",
              "      border-color: transparent;\n",
              "      border-left-color: var(--fill-color);\n",
              "      border-top-color: var(--fill-color);\n",
              "      border-right-color: var(--fill-color);\n",
              "    }\n",
              "    40% {\n",
              "      border-color: transparent;\n",
              "      border-right-color: var(--fill-color);\n",
              "      border-top-color: var(--fill-color);\n",
              "    }\n",
              "    60% {\n",
              "      border-color: transparent;\n",
              "      border-right-color: var(--fill-color);\n",
              "    }\n",
              "    80% {\n",
              "      border-color: transparent;\n",
              "      border-right-color: var(--fill-color);\n",
              "      border-bottom-color: var(--fill-color);\n",
              "    }\n",
              "    90% {\n",
              "      border-color: transparent;\n",
              "      border-bottom-color: var(--fill-color);\n",
              "    }\n",
              "  }\n",
              "</style>\n",
              "\n",
              "  <script>\n",
              "    async function quickchart(key) {\n",
              "      const quickchartButtonEl =\n",
              "        document.querySelector('#' + key + ' button');\n",
              "      quickchartButtonEl.disabled = true;  // To prevent multiple clicks.\n",
              "      quickchartButtonEl.classList.add('colab-df-spinner');\n",
              "      try {\n",
              "        const charts = await google.colab.kernel.invokeFunction(\n",
              "            'suggestCharts', [key], {});\n",
              "      } catch (error) {\n",
              "        console.error('Error during call to suggestCharts:', error);\n",
              "      }\n",
              "      quickchartButtonEl.classList.remove('colab-df-spinner');\n",
              "      quickchartButtonEl.classList.add('colab-df-quickchart-complete');\n",
              "    }\n",
              "    (() => {\n",
              "      let quickchartButtonEl =\n",
              "        document.querySelector('#df-30529d68-305d-487c-9a52-e46f800519db button');\n",
              "      quickchartButtonEl.style.display =\n",
              "        google.colab.kernel.accessAllowed ? 'block' : 'none';\n",
              "    })();\n",
              "  </script>\n",
              "</div>\n",
              "\n",
              "    </div>\n",
              "  </div>\n"
            ],
            "application/vnd.google.colaboratory.intrinsic+json": {
              "type": "dataframe",
              "variable_name": "train_df",
              "summary": "{\n  \"name\": \"train_df\",\n  \"rows\": 1130,\n  \"fields\": [\n    {\n      \"column\": \"case\",\n      \"properties\": {\n        \"dtype\": \"string\",\n        \"num_unique_values\": 1130,\n        \"samples\": [\n          \"0703\",\n          \"0900\",\n          \"0773\"\n        ],\n        \"semantic_type\": \"\",\n        \"description\": \"\"\n      }\n    },\n    {\n      \"column\": \"acl\",\n      \"properties\": {\n        \"dtype\": \"number\",\n        \"std\": 0,\n        \"min\": 0,\n        \"max\": 1,\n        \"num_unique_values\": 2,\n        \"samples\": [\n          1,\n          0\n        ],\n        \"semantic_type\": \"\",\n        \"description\": \"\"\n      }\n    },\n    {\n      \"column\": \"meniscus\",\n      \"properties\": {\n        \"dtype\": \"number\",\n        \"std\": 0,\n        \"min\": 0,\n        \"max\": 1,\n        \"num_unique_values\": 2,\n        \"samples\": [\n          1,\n          0\n        ],\n        \"semantic_type\": \"\",\n        \"description\": \"\"\n      }\n    },\n    {\n      \"column\": \"abnormal\",\n      \"properties\": {\n        \"dtype\": \"number\",\n        \"std\": 0,\n        \"min\": 0,\n        \"max\": 1,\n        \"num_unique_values\": 2,\n        \"samples\": [\n          0,\n          1\n        ],\n        \"semantic_type\": \"\",\n        \"description\": \"\"\n      }\n    },\n    {\n      \"column\": \"axial\",\n      \"properties\": {\n        \"dtype\": \"string\",\n        \"num_unique_values\": 1130,\n        \"samples\": [\n          \"knee_data/MRNet-v1.0/train/axial/0703.npy\",\n          \"knee_data/MRNet-v1.0/train/axial/0900.npy\"\n        ],\n        \"semantic_type\": \"\",\n        \"description\": \"\"\n      }\n    },\n    {\n      \"column\": \"coronal\",\n      \"properties\": {\n        \"dtype\": \"string\",\n        \"num_unique_values\": 1130,\n        \"samples\": [\n          \"knee_data/MRNet-v1.0/train/coronal/0703.npy\",\n          \"knee_data/MRNet-v1.0/train/coronal/0900.npy\"\n        ],\n        \"semantic_type\": \"\",\n        \"description\": \"\"\n      }\n    },\n    {\n      \"column\": \"sagittal\",\n      \"properties\": {\n        \"dtype\": \"string\",\n        \"num_unique_values\": 1130,\n        \"samples\": [\n          \"knee_data/MRNet-v1.0/train/sagittal/0703.npy\",\n          \"knee_data/MRNet-v1.0/train/sagittal/0900.npy\"\n        ],\n        \"semantic_type\": \"\",\n        \"description\": \"\"\n      }\n    }\n  ]\n}"
            }
          },
          "metadata": {},
          "execution_count": 19
        }
      ],
      "source": [
        "train_df.head()"
      ]
    },
    {
      "cell_type": "code",
      "execution_count": null,
      "metadata": {
        "id": "l3eRoz6oL-Md"
      },
      "outputs": [],
      "source": [
        "val_df['axial'] = val_df['case'].apply(lambda x: os.path.join(val_dir, 'axial', f\"{x}.npy\"))\n",
        "val_df['coronal'] = val_df['case'].apply(lambda x: os.path.join(val_dir, 'coronal', f\"{x}.npy\"))\n",
        "val_df['sagittal'] = val_df['case'].apply(lambda x: os.path.join(val_dir, 'sagittal', f\"{x}.npy\"))"
      ]
    },
    {
      "cell_type": "code",
      "execution_count": null,
      "metadata": {
        "colab": {
          "base_uri": "https://localhost:8080/",
          "height": 206
        },
        "id": "sO_N-3dhFoNC",
        "outputId": "b8e46a43-8b2a-4c00-86ec-4f8f282835fe"
      },
      "outputs": [
        {
          "output_type": "execute_result",
          "data": {
            "text/plain": [
              "   case  acl  meniscus  abnormal                                      axial  \\\n",
              "0  1130    0         0         0  knee_data/MRNet-v1.0/valid/axial/1130.npy   \n",
              "1  1131    0         0         0  knee_data/MRNet-v1.0/valid/axial/1131.npy   \n",
              "2  1132    0         0         0  knee_data/MRNet-v1.0/valid/axial/1132.npy   \n",
              "3  1133    0         0         0  knee_data/MRNet-v1.0/valid/axial/1133.npy   \n",
              "4  1134    0         0         0  knee_data/MRNet-v1.0/valid/axial/1134.npy   \n",
              "\n",
              "                                       coronal  \\\n",
              "0  knee_data/MRNet-v1.0/valid/coronal/1130.npy   \n",
              "1  knee_data/MRNet-v1.0/valid/coronal/1131.npy   \n",
              "2  knee_data/MRNet-v1.0/valid/coronal/1132.npy   \n",
              "3  knee_data/MRNet-v1.0/valid/coronal/1133.npy   \n",
              "4  knee_data/MRNet-v1.0/valid/coronal/1134.npy   \n",
              "\n",
              "                                       sagittal  \n",
              "0  knee_data/MRNet-v1.0/valid/sagittal/1130.npy  \n",
              "1  knee_data/MRNet-v1.0/valid/sagittal/1131.npy  \n",
              "2  knee_data/MRNet-v1.0/valid/sagittal/1132.npy  \n",
              "3  knee_data/MRNet-v1.0/valid/sagittal/1133.npy  \n",
              "4  knee_data/MRNet-v1.0/valid/sagittal/1134.npy  "
            ],
            "text/html": [
              "\n",
              "  <div id=\"df-ce52ae07-72a6-49fd-b0a5-103004c40da7\" class=\"colab-df-container\">\n",
              "    <div>\n",
              "<style scoped>\n",
              "    .dataframe tbody tr th:only-of-type {\n",
              "        vertical-align: middle;\n",
              "    }\n",
              "\n",
              "    .dataframe tbody tr th {\n",
              "        vertical-align: top;\n",
              "    }\n",
              "\n",
              "    .dataframe thead th {\n",
              "        text-align: right;\n",
              "    }\n",
              "</style>\n",
              "<table border=\"1\" class=\"dataframe\">\n",
              "  <thead>\n",
              "    <tr style=\"text-align: right;\">\n",
              "      <th></th>\n",
              "      <th>case</th>\n",
              "      <th>acl</th>\n",
              "      <th>meniscus</th>\n",
              "      <th>abnormal</th>\n",
              "      <th>axial</th>\n",
              "      <th>coronal</th>\n",
              "      <th>sagittal</th>\n",
              "    </tr>\n",
              "  </thead>\n",
              "  <tbody>\n",
              "    <tr>\n",
              "      <th>0</th>\n",
              "      <td>1130</td>\n",
              "      <td>0</td>\n",
              "      <td>0</td>\n",
              "      <td>0</td>\n",
              "      <td>knee_data/MRNet-v1.0/valid/axial/1130.npy</td>\n",
              "      <td>knee_data/MRNet-v1.0/valid/coronal/1130.npy</td>\n",
              "      <td>knee_data/MRNet-v1.0/valid/sagittal/1130.npy</td>\n",
              "    </tr>\n",
              "    <tr>\n",
              "      <th>1</th>\n",
              "      <td>1131</td>\n",
              "      <td>0</td>\n",
              "      <td>0</td>\n",
              "      <td>0</td>\n",
              "      <td>knee_data/MRNet-v1.0/valid/axial/1131.npy</td>\n",
              "      <td>knee_data/MRNet-v1.0/valid/coronal/1131.npy</td>\n",
              "      <td>knee_data/MRNet-v1.0/valid/sagittal/1131.npy</td>\n",
              "    </tr>\n",
              "    <tr>\n",
              "      <th>2</th>\n",
              "      <td>1132</td>\n",
              "      <td>0</td>\n",
              "      <td>0</td>\n",
              "      <td>0</td>\n",
              "      <td>knee_data/MRNet-v1.0/valid/axial/1132.npy</td>\n",
              "      <td>knee_data/MRNet-v1.0/valid/coronal/1132.npy</td>\n",
              "      <td>knee_data/MRNet-v1.0/valid/sagittal/1132.npy</td>\n",
              "    </tr>\n",
              "    <tr>\n",
              "      <th>3</th>\n",
              "      <td>1133</td>\n",
              "      <td>0</td>\n",
              "      <td>0</td>\n",
              "      <td>0</td>\n",
              "      <td>knee_data/MRNet-v1.0/valid/axial/1133.npy</td>\n",
              "      <td>knee_data/MRNet-v1.0/valid/coronal/1133.npy</td>\n",
              "      <td>knee_data/MRNet-v1.0/valid/sagittal/1133.npy</td>\n",
              "    </tr>\n",
              "    <tr>\n",
              "      <th>4</th>\n",
              "      <td>1134</td>\n",
              "      <td>0</td>\n",
              "      <td>0</td>\n",
              "      <td>0</td>\n",
              "      <td>knee_data/MRNet-v1.0/valid/axial/1134.npy</td>\n",
              "      <td>knee_data/MRNet-v1.0/valid/coronal/1134.npy</td>\n",
              "      <td>knee_data/MRNet-v1.0/valid/sagittal/1134.npy</td>\n",
              "    </tr>\n",
              "  </tbody>\n",
              "</table>\n",
              "</div>\n",
              "    <div class=\"colab-df-buttons\">\n",
              "\n",
              "  <div class=\"colab-df-container\">\n",
              "    <button class=\"colab-df-convert\" onclick=\"convertToInteractive('df-ce52ae07-72a6-49fd-b0a5-103004c40da7')\"\n",
              "            title=\"Convert this dataframe to an interactive table.\"\n",
              "            style=\"display:none;\">\n",
              "\n",
              "  <svg xmlns=\"http://www.w3.org/2000/svg\" height=\"24px\" viewBox=\"0 -960 960 960\">\n",
              "    <path d=\"M120-120v-720h720v720H120Zm60-500h600v-160H180v160Zm220 220h160v-160H400v160Zm0 220h160v-160H400v160ZM180-400h160v-160H180v160Zm440 0h160v-160H620v160ZM180-180h160v-160H180v160Zm440 0h160v-160H620v160Z\"/>\n",
              "  </svg>\n",
              "    </button>\n",
              "\n",
              "  <style>\n",
              "    .colab-df-container {\n",
              "      display:flex;\n",
              "      gap: 12px;\n",
              "    }\n",
              "\n",
              "    .colab-df-convert {\n",
              "      background-color: #E8F0FE;\n",
              "      border: none;\n",
              "      border-radius: 50%;\n",
              "      cursor: pointer;\n",
              "      display: none;\n",
              "      fill: #1967D2;\n",
              "      height: 32px;\n",
              "      padding: 0 0 0 0;\n",
              "      width: 32px;\n",
              "    }\n",
              "\n",
              "    .colab-df-convert:hover {\n",
              "      background-color: #E2EBFA;\n",
              "      box-shadow: 0px 1px 2px rgba(60, 64, 67, 0.3), 0px 1px 3px 1px rgba(60, 64, 67, 0.15);\n",
              "      fill: #174EA6;\n",
              "    }\n",
              "\n",
              "    .colab-df-buttons div {\n",
              "      margin-bottom: 4px;\n",
              "    }\n",
              "\n",
              "    [theme=dark] .colab-df-convert {\n",
              "      background-color: #3B4455;\n",
              "      fill: #D2E3FC;\n",
              "    }\n",
              "\n",
              "    [theme=dark] .colab-df-convert:hover {\n",
              "      background-color: #434B5C;\n",
              "      box-shadow: 0px 1px 3px 1px rgba(0, 0, 0, 0.15);\n",
              "      filter: drop-shadow(0px 1px 2px rgba(0, 0, 0, 0.3));\n",
              "      fill: #FFFFFF;\n",
              "    }\n",
              "  </style>\n",
              "\n",
              "    <script>\n",
              "      const buttonEl =\n",
              "        document.querySelector('#df-ce52ae07-72a6-49fd-b0a5-103004c40da7 button.colab-df-convert');\n",
              "      buttonEl.style.display =\n",
              "        google.colab.kernel.accessAllowed ? 'block' : 'none';\n",
              "\n",
              "      async function convertToInteractive(key) {\n",
              "        const element = document.querySelector('#df-ce52ae07-72a6-49fd-b0a5-103004c40da7');\n",
              "        const dataTable =\n",
              "          await google.colab.kernel.invokeFunction('convertToInteractive',\n",
              "                                                    [key], {});\n",
              "        if (!dataTable) return;\n",
              "\n",
              "        const docLinkHtml = 'Like what you see? Visit the ' +\n",
              "          '<a target=\"_blank\" href=https://colab.research.google.com/notebooks/data_table.ipynb>data table notebook</a>'\n",
              "          + ' to learn more about interactive tables.';\n",
              "        element.innerHTML = '';\n",
              "        dataTable['output_type'] = 'display_data';\n",
              "        await google.colab.output.renderOutput(dataTable, element);\n",
              "        const docLink = document.createElement('div');\n",
              "        docLink.innerHTML = docLinkHtml;\n",
              "        element.appendChild(docLink);\n",
              "      }\n",
              "    </script>\n",
              "  </div>\n",
              "\n",
              "\n",
              "<div id=\"df-e0f8a9c5-5087-4120-a533-d9e624dedf38\">\n",
              "  <button class=\"colab-df-quickchart\" onclick=\"quickchart('df-e0f8a9c5-5087-4120-a533-d9e624dedf38')\"\n",
              "            title=\"Suggest charts\"\n",
              "            style=\"display:none;\">\n",
              "\n",
              "<svg xmlns=\"http://www.w3.org/2000/svg\" height=\"24px\"viewBox=\"0 0 24 24\"\n",
              "     width=\"24px\">\n",
              "    <g>\n",
              "        <path d=\"M19 3H5c-1.1 0-2 .9-2 2v14c0 1.1.9 2 2 2h14c1.1 0 2-.9 2-2V5c0-1.1-.9-2-2-2zM9 17H7v-7h2v7zm4 0h-2V7h2v10zm4 0h-2v-4h2v4z\"/>\n",
              "    </g>\n",
              "</svg>\n",
              "  </button>\n",
              "\n",
              "<style>\n",
              "  .colab-df-quickchart {\n",
              "      --bg-color: #E8F0FE;\n",
              "      --fill-color: #1967D2;\n",
              "      --hover-bg-color: #E2EBFA;\n",
              "      --hover-fill-color: #174EA6;\n",
              "      --disabled-fill-color: #AAA;\n",
              "      --disabled-bg-color: #DDD;\n",
              "  }\n",
              "\n",
              "  [theme=dark] .colab-df-quickchart {\n",
              "      --bg-color: #3B4455;\n",
              "      --fill-color: #D2E3FC;\n",
              "      --hover-bg-color: #434B5C;\n",
              "      --hover-fill-color: #FFFFFF;\n",
              "      --disabled-bg-color: #3B4455;\n",
              "      --disabled-fill-color: #666;\n",
              "  }\n",
              "\n",
              "  .colab-df-quickchart {\n",
              "    background-color: var(--bg-color);\n",
              "    border: none;\n",
              "    border-radius: 50%;\n",
              "    cursor: pointer;\n",
              "    display: none;\n",
              "    fill: var(--fill-color);\n",
              "    height: 32px;\n",
              "    padding: 0;\n",
              "    width: 32px;\n",
              "  }\n",
              "\n",
              "  .colab-df-quickchart:hover {\n",
              "    background-color: var(--hover-bg-color);\n",
              "    box-shadow: 0 1px 2px rgba(60, 64, 67, 0.3), 0 1px 3px 1px rgba(60, 64, 67, 0.15);\n",
              "    fill: var(--button-hover-fill-color);\n",
              "  }\n",
              "\n",
              "  .colab-df-quickchart-complete:disabled,\n",
              "  .colab-df-quickchart-complete:disabled:hover {\n",
              "    background-color: var(--disabled-bg-color);\n",
              "    fill: var(--disabled-fill-color);\n",
              "    box-shadow: none;\n",
              "  }\n",
              "\n",
              "  .colab-df-spinner {\n",
              "    border: 2px solid var(--fill-color);\n",
              "    border-color: transparent;\n",
              "    border-bottom-color: var(--fill-color);\n",
              "    animation:\n",
              "      spin 1s steps(1) infinite;\n",
              "  }\n",
              "\n",
              "  @keyframes spin {\n",
              "    0% {\n",
              "      border-color: transparent;\n",
              "      border-bottom-color: var(--fill-color);\n",
              "      border-left-color: var(--fill-color);\n",
              "    }\n",
              "    20% {\n",
              "      border-color: transparent;\n",
              "      border-left-color: var(--fill-color);\n",
              "      border-top-color: var(--fill-color);\n",
              "    }\n",
              "    30% {\n",
              "      border-color: transparent;\n",
              "      border-left-color: var(--fill-color);\n",
              "      border-top-color: var(--fill-color);\n",
              "      border-right-color: var(--fill-color);\n",
              "    }\n",
              "    40% {\n",
              "      border-color: transparent;\n",
              "      border-right-color: var(--fill-color);\n",
              "      border-top-color: var(--fill-color);\n",
              "    }\n",
              "    60% {\n",
              "      border-color: transparent;\n",
              "      border-right-color: var(--fill-color);\n",
              "    }\n",
              "    80% {\n",
              "      border-color: transparent;\n",
              "      border-right-color: var(--fill-color);\n",
              "      border-bottom-color: var(--fill-color);\n",
              "    }\n",
              "    90% {\n",
              "      border-color: transparent;\n",
              "      border-bottom-color: var(--fill-color);\n",
              "    }\n",
              "  }\n",
              "</style>\n",
              "\n",
              "  <script>\n",
              "    async function quickchart(key) {\n",
              "      const quickchartButtonEl =\n",
              "        document.querySelector('#' + key + ' button');\n",
              "      quickchartButtonEl.disabled = true;  // To prevent multiple clicks.\n",
              "      quickchartButtonEl.classList.add('colab-df-spinner');\n",
              "      try {\n",
              "        const charts = await google.colab.kernel.invokeFunction(\n",
              "            'suggestCharts', [key], {});\n",
              "      } catch (error) {\n",
              "        console.error('Error during call to suggestCharts:', error);\n",
              "      }\n",
              "      quickchartButtonEl.classList.remove('colab-df-spinner');\n",
              "      quickchartButtonEl.classList.add('colab-df-quickchart-complete');\n",
              "    }\n",
              "    (() => {\n",
              "      let quickchartButtonEl =\n",
              "        document.querySelector('#df-e0f8a9c5-5087-4120-a533-d9e624dedf38 button');\n",
              "      quickchartButtonEl.style.display =\n",
              "        google.colab.kernel.accessAllowed ? 'block' : 'none';\n",
              "    })();\n",
              "  </script>\n",
              "</div>\n",
              "\n",
              "    </div>\n",
              "  </div>\n"
            ],
            "application/vnd.google.colaboratory.intrinsic+json": {
              "type": "dataframe",
              "variable_name": "val_df",
              "summary": "{\n  \"name\": \"val_df\",\n  \"rows\": 120,\n  \"fields\": [\n    {\n      \"column\": \"case\",\n      \"properties\": {\n        \"dtype\": \"string\",\n        \"num_unique_values\": 120,\n        \"samples\": [\n          \"1174\",\n          \"1177\",\n          \"1134\"\n        ],\n        \"semantic_type\": \"\",\n        \"description\": \"\"\n      }\n    },\n    {\n      \"column\": \"acl\",\n      \"properties\": {\n        \"dtype\": \"number\",\n        \"std\": 0,\n        \"min\": 0,\n        \"max\": 1,\n        \"num_unique_values\": 2,\n        \"samples\": [\n          1,\n          0\n        ],\n        \"semantic_type\": \"\",\n        \"description\": \"\"\n      }\n    },\n    {\n      \"column\": \"meniscus\",\n      \"properties\": {\n        \"dtype\": \"number\",\n        \"std\": 0,\n        \"min\": 0,\n        \"max\": 1,\n        \"num_unique_values\": 2,\n        \"samples\": [\n          1,\n          0\n        ],\n        \"semantic_type\": \"\",\n        \"description\": \"\"\n      }\n    },\n    {\n      \"column\": \"abnormal\",\n      \"properties\": {\n        \"dtype\": \"number\",\n        \"std\": 0,\n        \"min\": 0,\n        \"max\": 1,\n        \"num_unique_values\": 2,\n        \"samples\": [\n          1,\n          0\n        ],\n        \"semantic_type\": \"\",\n        \"description\": \"\"\n      }\n    },\n    {\n      \"column\": \"axial\",\n      \"properties\": {\n        \"dtype\": \"string\",\n        \"num_unique_values\": 120,\n        \"samples\": [\n          \"knee_data/MRNet-v1.0/valid/axial/1174.npy\",\n          \"knee_data/MRNet-v1.0/valid/axial/1177.npy\"\n        ],\n        \"semantic_type\": \"\",\n        \"description\": \"\"\n      }\n    },\n    {\n      \"column\": \"coronal\",\n      \"properties\": {\n        \"dtype\": \"string\",\n        \"num_unique_values\": 120,\n        \"samples\": [\n          \"knee_data/MRNet-v1.0/valid/coronal/1174.npy\",\n          \"knee_data/MRNet-v1.0/valid/coronal/1177.npy\"\n        ],\n        \"semantic_type\": \"\",\n        \"description\": \"\"\n      }\n    },\n    {\n      \"column\": \"sagittal\",\n      \"properties\": {\n        \"dtype\": \"string\",\n        \"num_unique_values\": 120,\n        \"samples\": [\n          \"knee_data/MRNet-v1.0/valid/sagittal/1174.npy\",\n          \"knee_data/MRNet-v1.0/valid/sagittal/1177.npy\"\n        ],\n        \"semantic_type\": \"\",\n        \"description\": \"\"\n      }\n    }\n  ]\n}"
            }
          },
          "metadata": {},
          "execution_count": 21
        }
      ],
      "source": [
        "val_df.head()"
      ]
    },
    {
      "cell_type": "code",
      "execution_count": null,
      "metadata": {
        "colab": {
          "base_uri": "https://localhost:8080/"
        },
        "id": "v14fXwkyM3WM",
        "outputId": "97682ce7-a874-4749-9dab-2e839f00176e"
      },
      "outputs": [
        {
          "output_type": "stream",
          "name": "stdout",
          "text": [
            "1130 120\n"
          ]
        }
      ],
      "source": [
        "train_len = len(train_df)\n",
        "val_len = len(val_df)\n",
        "print(train_len, val_len)"
      ]
    },
    {
      "cell_type": "markdown",
      "metadata": {
        "id": "-mqMfG7TNlPt"
      },
      "source": [
        "Creare set de date de testare din setul de date de antrenare original"
      ]
    },
    {
      "cell_type": "code",
      "execution_count": null,
      "metadata": {
        "colab": {
          "base_uri": "https://localhost:8080/"
        },
        "id": "AJhYoiiaNhaf",
        "outputId": "2153849d-015e-46e4-f25e-353b48f6d29a"
      },
      "outputs": [
        {
          "output_type": "stream",
          "name": "stdout",
          "text": [
            "Dimensiune train_df: 1000\n",
            "Dimensiune val_df: 120\n",
            "Dimensiune test_df: 130\n"
          ]
        }
      ],
      "source": [
        "test_df = train_df.sample(n=130, random_state=42)\n",
        "train_df = train_df.drop(test_df.index)\n",
        "\n",
        "print(f\"Dimensiune train_df: {len(train_df)}\")\n",
        "print(f\"Dimensiune val_df: {len(val_df)}\")\n",
        "print(f\"Dimensiune test_df: {len(test_df)}\")"
      ]
    },
    {
      "cell_type": "markdown",
      "metadata": {
        "id": "KpVKKut7ffti"
      },
      "source": [
        "Verificarea dimensinilor fiecarei imagini si a scalei valorilor pixelilor"
      ]
    },
    {
      "cell_type": "code",
      "execution_count": null,
      "metadata": {
        "id": "ag2W_Eekff9N"
      },
      "outputs": [],
      "source": [
        "def check_images(df, target_size=(256, 256)):\n",
        "    dimensiuni_diferite = 0\n",
        "    normalizare = 0\n",
        "\n",
        "    for idx, row in df.iterrows():\n",
        "        axial_path, coronal_path, sagittal_path = row[\"axial\"], row[\"coronal\"], row[\"sagittal\"]\n",
        "\n",
        "        axial = np.load(axial_path)\n",
        "        coronal = np.load(coronal_path)\n",
        "        sagittal = np.load(sagittal_path)\n",
        "\n",
        "        for image in [axial, coronal, sagittal]:\n",
        "            # verificare dimensiuni imagine\n",
        "            if (image.shape[1], image.shape[2]) == target_size:\n",
        "                dimensiuni_diferite += 1\n",
        "\n",
        "            # verificare scala valorilor pixelilor\n",
        "            pixel_values = np.array(image)\n",
        "            if pixel_values.max() > 1.0 or pixel_values.min() < -1.0:\n",
        "                normalizare += 1\n",
        "\n",
        "    return dimensiuni_diferite, normalizare"
      ]
    },
    {
      "cell_type": "code",
      "execution_count": null,
      "metadata": {
        "colab": {
          "base_uri": "https://localhost:8080/"
        },
        "id": "P4TtMQFvfhpu",
        "outputId": "0bd5f699-f758-465d-86a2-7ef19ed9b3ee"
      },
      "outputs": [
        {
          "output_type": "stream",
          "name": "stdout",
          "text": [
            "Numărul de imagini din setul de date de antrenare: 3000\n",
            "Numărul de imagini cu dimensiuni egale cu (256, 256): 3000\n",
            "Numărul de imagini care necesită normalizare: 3000\n"
          ]
        }
      ],
      "source": [
        "dimensiuni_diferite, normalizare = check_images(train_df)\n",
        "print(f\"Numărul de imagini din setul de date de antrenare: {len(train_df) * 3}\")\n",
        "print(f\"Numărul de imagini cu dimensiuni egale cu (256, 256): {dimensiuni_diferite}\")\n",
        "print(f\"Numărul de imagini care necesită normalizare: {normalizare}\")"
      ]
    },
    {
      "cell_type": "code",
      "execution_count": null,
      "metadata": {
        "colab": {
          "base_uri": "https://localhost:8080/"
        },
        "id": "sYh01uYffrKO",
        "outputId": "f075b6a7-1fd4-49e6-85f0-dbefa8723205"
      },
      "outputs": [
        {
          "output_type": "stream",
          "name": "stdout",
          "text": [
            "Numărul de imagini din setul de date de validare: 360\n",
            "Numărul de imagini cu dimensiuni egale cu (256, 256): 360\n",
            "Numărul de imagini care necesită normalizare: 360\n"
          ]
        }
      ],
      "source": [
        "dimensiuni_diferite, normalizare = check_images(val_df)\n",
        "print(f\"Numărul de imagini din setul de date de validare: {len(val_df) * 3}\")\n",
        "print(f\"Numărul de imagini cu dimensiuni egale cu (256, 256): {dimensiuni_diferite}\")\n",
        "print(f\"Numărul de imagini care necesită normalizare: {normalizare}\")\n"
      ]
    },
    {
      "cell_type": "code",
      "source": [
        "dimensiuni_diferite, normalizare = check_images(test_df)\n",
        "print(f\"Numărul de imagini din setul de date de validare: {len(test_df) * 3}\")\n",
        "print(f\"Numărul de imagini cu dimensiuni egale cu (256, 256): {dimensiuni_diferite}\")\n",
        "print(f\"Numărul de imagini care necesită normalizare: {normalizare}\")"
      ],
      "metadata": {
        "id": "FzoY8dFVY1Ox",
        "colab": {
          "base_uri": "https://localhost:8080/"
        },
        "outputId": "6d1dd043-1ffe-4146-92af-1b09a8f4f24c"
      },
      "execution_count": null,
      "outputs": [
        {
          "output_type": "stream",
          "name": "stdout",
          "text": [
            "Numărul de imagini din setul de date de validare: 390\n",
            "Numărul de imagini cu dimensiuni egale cu (256, 256): 390\n",
            "Numărul de imagini care necesită normalizare: 390\n"
          ]
        }
      ]
    },
    {
      "cell_type": "markdown",
      "metadata": {
        "id": "AgIs9GTjOJja"
      },
      "source": [
        "Creare tranformări pentru a augmenta setul de date de antrenare și setul de date de validare"
      ]
    },
    {
      "cell_type": "code",
      "source": [
        "# se definesc transformarile\n",
        "train_transforms = transforms.Compose([\n",
        "    transforms.Resize(size=(128, 128)),\n",
        "    transforms.RandomHorizontalFlip(p=0.5),\n",
        "    transforms.RandomRotation(degrees=15),\n",
        "    transforms.ColorJitter(brightness=0.2, contrast=0.2, saturation=0.2),\n",
        "    transforms.ToTensor(),\n",
        "    transforms.Normalize(mean=[0.5], std=[0.5])\n",
        "])\n",
        "\n",
        "val_transforms = transforms.Compose([\n",
        "    transforms.Resize(size=(128, 128)),\n",
        "    transforms.ToTensor(),\n",
        "    transforms.Normalize(mean=[0.5], std=[0.5])\n",
        "])\n",
        "\n",
        "test_transforms = transforms.Compose([\n",
        "    transforms.Resize(size=(128, 128)),\n",
        "    transforms.ToTensor(),\n",
        "    transforms.Normalize(mean=[0.5], std=[0.5])\n",
        "])"
      ],
      "metadata": {
        "id": "V5nR7HvdqnV1"
      },
      "execution_count": null,
      "outputs": []
    },
    {
      "cell_type": "markdown",
      "metadata": {
        "id": "Tf_SE0_d-Hql"
      },
      "source": [
        "Creare clasă care permite utlizarea setului de date împreună cu DataLoader"
      ]
    },
    {
      "cell_type": "code",
      "execution_count": null,
      "metadata": {
        "colab": {
          "base_uri": "https://localhost:8080/"
        },
        "id": "F3gNO46BSwo8",
        "outputId": "f854dfee-98a6-4c1e-d2a4-ebc6d57c9bbf"
      },
      "outputs": [
        {
          "output_type": "stream",
          "name": "stdout",
          "text": [
            "Dimensiune set de date de antrenare: 3000\n",
            "Dimensiune set de date de validare: 360\n",
            "Dimensiune set de date de testare: 390\n"
          ]
        }
      ],
      "source": [
        "class KneeDataset(Dataset):\n",
        "    def __init__(self, df, transform=None):\n",
        "        self.df = df\n",
        "        self.transform = transform\n",
        "        self.axis = [\"axial\", \"coronal\", \"sagittal\"]\n",
        "        self.labels = [\"acl\", \"meniscus\", \"abnormal\"]\n",
        "\n",
        "    def __len__(self):\n",
        "        # The total number of samples is the number of scans * number of planes (3: axial, coronal, sagittal)\n",
        "        return len(self.df) * len(self.axis)\n",
        "\n",
        "    def __getitem__(self, idx):\n",
        "        # Determine which scan and plane corresponds to this index\n",
        "        scan_idx = idx // len(self.axis)  # Index of scan in the dataframe\n",
        "        axis_idx = idx % len(self.axis)   # Which plane (axial, coronal, sagittal)\n",
        "\n",
        "        # Get the file paths for the planes of the current scan\n",
        "        row = self.df.iloc[scan_idx]\n",
        "        axial_path, coronal_path, sagittal_path = row[self.axis].tolist()\n",
        "\n",
        "        # Load the volume for the respective plane\n",
        "        axial = np.load(axial_path)\n",
        "        coronal = np.load(coronal_path)\n",
        "        sagittal = np.load(sagittal_path)\n",
        "\n",
        "        # Select the middle slice from each plane\n",
        "        axial_slice = axial[len(axial) // 2]\n",
        "        coronal_slice = coronal[len(coronal) // 2]\n",
        "        sagittal_slice = sagittal[len(sagittal) // 2]\n",
        "\n",
        "        # Choose the slice from the correct plane (axial, coronal, or sagittal)\n",
        "        if axis_idx == 0:\n",
        "            slice_image = axial_slice\n",
        "        elif axis_idx == 1:\n",
        "            slice_image = coronal_slice\n",
        "        else:\n",
        "            slice_image = sagittal_slice\n",
        "\n",
        "        # Apply transformations to the slice (if applicable)\n",
        "        if self.transform:\n",
        "            slice_image = self.transform(Image.fromarray(slice_image))\n",
        "\n",
        "        # Assign the label for this scan (same for all slices of a scan)\n",
        "        label = torch.tensor(row[self.labels].tolist()).float()\n",
        "\n",
        "        return {\"image\": slice_image, \"label\": label}\n",
        "\n",
        "\n",
        "\n",
        "train_dataset = KneeDataset(train_df, transform=train_transforms)\n",
        "val_dataset = KneeDataset(val_df, transform=val_transforms)\n",
        "test_dataset = KneeDataset(test_df, transform=test_transforms)\n",
        "\n",
        "print(f\"Dimensiune set de date de antrenare: {len(train_dataset)}\")\n",
        "print(f\"Dimensiune set de date de validare: {len(val_dataset)}\")\n",
        "print(f\"Dimensiune set de date de testare: {len(test_dataset)}\")"
      ]
    },
    {
      "cell_type": "code",
      "execution_count": null,
      "metadata": {
        "id": "XNv4pcnrWHr6"
      },
      "outputs": [],
      "source": [
        "class BaselineCNN(nn.Module):\n",
        "    def __init__(self):\n",
        "        super(BaselineCNN, self).__init__()\n",
        "\n",
        "        # Convolutional layers (change input channels to 1 for grayscale images)\n",
        "        self.conv1 = nn.Conv2d(in_channels=1, out_channels=32, kernel_size=3, stride=1, padding=1)  # 128x128x1 -> 128x128x32\n",
        "        self.conv2 = nn.Conv2d(in_channels=32, out_channels=64, kernel_size=3, stride=1, padding=1)  # 128x128x32 -> 128x128x64\n",
        "        self.conv3 = nn.Conv2d(in_channels=64, out_channels=128, kernel_size=3, stride=1, padding=1)  # 128x128x64 -> 128x128x128\n",
        "\n",
        "        # Max pooling layer\n",
        "        self.pool = nn.MaxPool2d(2, 2)  # Reduces size by a factor of 2\n",
        "\n",
        "        # Fully connected layers\n",
        "        self.fc1 = nn.Linear(128 * 16 * 16, 512)  # Flattened size after pooling\n",
        "        self.fc2 = nn.Linear(512, 256)\n",
        "        self.fc3 = nn.Linear(256, 3)  # 3 classes: \"acl\", \"meniscus\", \"abnormal\"\n",
        "\n",
        "    def forward(self, x):\n",
        "        # Apply convolutional layers with ReLU activation\n",
        "        x = self.pool(torch.relu(self.conv1(x)))  # -> [batch_size, 32, 64, 64]\n",
        "        x = self.pool(torch.relu(self.conv2(x)))  # -> [batch_size, 64, 32, 32]\n",
        "        x = self.pool(torch.relu(self.conv3(x)))  # -> [batch_size, 128, 16, 16]\n",
        "\n",
        "        # Flatten the output of the convolutional layers\n",
        "        x = x.view(-1, 128 * 16 * 16)  # Flatten to a vector for the fully connected layers\n",
        "\n",
        "        # Apply fully connected layers with ReLU activation\n",
        "        x = torch.relu(self.fc1(x))\n",
        "        x = torch.relu(self.fc2(x))\n",
        "\n",
        "        # Output layer (no activation function here as we use CrossEntropyLoss)\n",
        "        x = self.fc3(x)\n",
        "\n",
        "        return x"
      ]
    },
    {
      "cell_type": "code",
      "execution_count": null,
      "metadata": {
        "id": "LhvB4r2QWHr6"
      },
      "outputs": [],
      "source": [
        "# Hyperparameters\n",
        "batch_size = 32\n",
        "epochs = 10\n",
        "learning_rate = 0.001\n",
        "device = torch.device(\"cuda\" if torch.cuda.is_available() else \"cpu\")\n",
        "\n",
        "# Initialize model, loss function, and optimizer\n",
        "model = BaselineCNN()\n",
        "model = model.to(device)\n",
        "criterion = nn.BCEWithLogitsLoss()  # For multi-label classification\n",
        "optimizer = optim.Adam(model.parameters(), lr=learning_rate)\n",
        "\n",
        "# Data loaders\n",
        "train_loader = DataLoader(train_dataset, batch_size=batch_size, shuffle=True)\n",
        "val_loader = DataLoader(val_dataset, batch_size=batch_size, shuffle=False)\n",
        "test_loader = DataLoader(test_dataset, batch_size=batch_size, shuffle=False)"
      ]
    },
    {
      "cell_type": "code",
      "source": [
        "# Training loop with ROC AUC\n",
        "def train_model(model, train_loader, val_loader, criterion, optimizer, epochs=10):\n",
        "    best_val_accuracy = 0.0\n",
        "    train_losses, val_losses = [], []\n",
        "    train_accuracies, val_accuracies = [], []\n",
        "    train_rocs, val_rocs = [], []  # Store ROC AUC scores\n",
        "\n",
        "    for epoch in range(epochs):\n",
        "        model.train()\n",
        "        running_loss = 0.0\n",
        "        correct_predictions = 0\n",
        "        total_predictions = 0\n",
        "\n",
        "        all_labels = []\n",
        "        all_outputs = []\n",
        "\n",
        "        # Training phase\n",
        "        for batch in tqdm(train_loader, desc=f\"Epoch {epoch+1}/{epochs}\"):\n",
        "            images = batch[\"image\"].to(device)\n",
        "            labels = batch[\"label\"].to(device)\n",
        "\n",
        "            optimizer.zero_grad()  # Zero the parameter gradients\n",
        "\n",
        "            # Forward pass\n",
        "            outputs = model(images)\n",
        "\n",
        "            # Collect outputs and labels for ROC AUC\n",
        "            all_outputs.append(torch.sigmoid(outputs).detach().cpu().numpy())\n",
        "            all_labels.append(labels.cpu().numpy())\n",
        "\n",
        "            # Calculate loss and backpropagate\n",
        "            loss = criterion(outputs, labels)\n",
        "            loss.backward()\n",
        "            optimizer.step()\n",
        "\n",
        "            running_loss += loss.item()\n",
        "\n",
        "            # Calculate accuracy (assuming the labels are multi-label)\n",
        "            predicted = torch.sigmoid(outputs) > 0.5\n",
        "            correct_predictions += (predicted == labels).sum().item()\n",
        "            total_predictions += labels.numel()\n",
        "\n",
        "        epoch_loss = running_loss / len(train_loader)\n",
        "        epoch_accuracy = correct_predictions / total_predictions\n",
        "\n",
        "        # Compute ROC AUC for the epoch\n",
        "        all_labels = np.vstack(all_labels)\n",
        "        all_outputs = np.vstack(all_outputs)\n",
        "        epoch_roc = roc_auc_score(all_labels, all_outputs, average=\"weighted\")\n",
        "\n",
        "        train_losses.append(epoch_loss)\n",
        "        train_accuracies.append(epoch_accuracy)\n",
        "        train_rocs.append(epoch_roc)\n",
        "\n",
        "        print(f\"Epoch [{epoch+1}/{epochs}], Loss: {epoch_loss:.4f}, Accuracy: {epoch_accuracy:.4f}, ROC AUC: {epoch_roc:.4f}\")\n",
        "\n",
        "        # Validation phase\n",
        "        val_loss, val_accuracy, val_roc = evaluate_model_with_loss_and_roc(model, val_loader, criterion)\n",
        "        val_losses.append(val_loss)\n",
        "        val_accuracies.append(val_accuracy)\n",
        "        val_rocs.append(val_roc)\n",
        "\n",
        "        print(f\"Validation Loss: {val_loss:.4f}, Accuracy: {val_accuracy:.4f}, ROC AUC: {val_roc:.4f}\")\n",
        "\n",
        "        # Save the best model based on validation accuracy\n",
        "        if val_accuracy > best_val_accuracy:\n",
        "            best_val_accuracy = val_accuracy\n",
        "            torch.save(model.state_dict(), 'best_model.pth')  # Save the model with the best accuracy\n",
        "\n",
        "    return train_losses, train_accuracies, train_rocs, val_losses, val_accuracies, val_rocs\n",
        "\n",
        "\n",
        "def evaluate_model_with_loss_and_roc(model, data_loader, criterion):\n",
        "    model.eval()  # Set model to evaluation mode\n",
        "    running_loss = 0.0\n",
        "    correct_predictions = 0\n",
        "    total_predictions = 0\n",
        "\n",
        "    all_labels = []\n",
        "    all_outputs = []\n",
        "\n",
        "    with torch.no_grad():\n",
        "        for batch in data_loader:\n",
        "            images = batch[\"image\"].to(device)\n",
        "            labels = batch[\"label\"].to(device)\n",
        "\n",
        "            # Forward pass\n",
        "            outputs = model(images)\n",
        "\n",
        "            # Collect outputs and labels for ROC AUC\n",
        "            all_outputs.append(torch.sigmoid(outputs).cpu().numpy())\n",
        "            all_labels.append(labels.cpu().numpy())\n",
        "\n",
        "            # Calculate loss\n",
        "            loss = criterion(outputs, labels)\n",
        "            running_loss += loss.item()\n",
        "\n",
        "            # Calculate accuracy (multi-label classification)\n",
        "            predicted = torch.sigmoid(outputs) > 0.5\n",
        "            correct_predictions += (predicted == labels).sum().item()\n",
        "            total_predictions += labels.numel()\n",
        "\n",
        "    val_loss = running_loss / len(data_loader)\n",
        "    accuracy = correct_predictions / total_predictions\n",
        "\n",
        "    # Compute ROC AUC\n",
        "    all_labels = np.vstack(all_labels)\n",
        "    all_outputs = np.vstack(all_outputs)\n",
        "    roc_auc = roc_auc_score(all_labels, all_outputs, average=\"weighted\")\n",
        "\n",
        "    return val_loss, accuracy, roc_auc\n",
        "\n",
        "\n",
        "train_losses, train_accuracies, train_rocs, val_losses, val_accuracies, val_rocs = train_model(\n",
        "    model, train_loader, val_loader, criterion, optimizer, epochs=10\n",
        ")"
      ],
      "metadata": {
        "colab": {
          "base_uri": "https://localhost:8080/"
        },
        "id": "-C2MrRpWB-v_",
        "outputId": "fda9e179-4f0a-45d7-a89b-d19de45d491c"
      },
      "execution_count": null,
      "outputs": [
        {
          "output_type": "stream",
          "name": "stderr",
          "text": [
            "Epoch 1/10: 100%|██████████| 94/94 [00:45<00:00,  2.05it/s]\n"
          ]
        },
        {
          "output_type": "stream",
          "name": "stdout",
          "text": [
            "Epoch [1/10], Loss: 0.5380, Accuracy: 0.7559, ROC AUC: 0.5346\n",
            "Validation Loss: 0.7782, Accuracy: 0.6361, ROC AUC: 0.5681\n"
          ]
        },
        {
          "output_type": "stream",
          "name": "stderr",
          "text": [
            "Epoch 2/10: 100%|██████████| 94/94 [00:14<00:00,  6.42it/s]\n"
          ]
        },
        {
          "output_type": "stream",
          "name": "stdout",
          "text": [
            "Epoch [2/10], Loss: 0.5201, Accuracy: 0.7612, ROC AUC: 0.6240\n",
            "Validation Loss: 0.6747, Accuracy: 0.6472, ROC AUC: 0.6017\n"
          ]
        },
        {
          "output_type": "stream",
          "name": "stderr",
          "text": [
            "Epoch 3/10: 100%|██████████| 94/94 [00:15<00:00,  6.17it/s]\n"
          ]
        },
        {
          "output_type": "stream",
          "name": "stdout",
          "text": [
            "Epoch [3/10], Loss: 0.4990, Accuracy: 0.7644, ROC AUC: 0.6883\n",
            "Validation Loss: 0.6549, Accuracy: 0.6602, ROC AUC: 0.6521\n"
          ]
        },
        {
          "output_type": "stream",
          "name": "stderr",
          "text": [
            "Epoch 4/10: 100%|██████████| 94/94 [00:14<00:00,  6.33it/s]\n"
          ]
        },
        {
          "output_type": "stream",
          "name": "stdout",
          "text": [
            "Epoch [4/10], Loss: 0.4810, Accuracy: 0.7726, ROC AUC: 0.7306\n",
            "Validation Loss: 0.6789, Accuracy: 0.6574, ROC AUC: 0.7006\n"
          ]
        },
        {
          "output_type": "stream",
          "name": "stderr",
          "text": [
            "Epoch 5/10: 100%|██████████| 94/94 [00:15<00:00,  6.13it/s]\n"
          ]
        },
        {
          "output_type": "stream",
          "name": "stdout",
          "text": [
            "Epoch [5/10], Loss: 0.4728, Accuracy: 0.7759, ROC AUC: 0.7489\n",
            "Validation Loss: 0.6169, Accuracy: 0.6667, ROC AUC: 0.7200\n"
          ]
        },
        {
          "output_type": "stream",
          "name": "stderr",
          "text": [
            "Epoch 6/10: 100%|██████████| 94/94 [00:14<00:00,  6.29it/s]\n"
          ]
        },
        {
          "output_type": "stream",
          "name": "stdout",
          "text": [
            "Epoch [6/10], Loss: 0.4684, Accuracy: 0.7764, ROC AUC: 0.7558\n",
            "Validation Loss: 0.6925, Accuracy: 0.6639, ROC AUC: 0.7099\n"
          ]
        },
        {
          "output_type": "stream",
          "name": "stderr",
          "text": [
            "Epoch 7/10: 100%|██████████| 94/94 [00:14<00:00,  6.37it/s]\n"
          ]
        },
        {
          "output_type": "stream",
          "name": "stdout",
          "text": [
            "Epoch [7/10], Loss: 0.4550, Accuracy: 0.7849, ROC AUC: 0.7737\n",
            "Validation Loss: 0.6099, Accuracy: 0.6778, ROC AUC: 0.7330\n"
          ]
        },
        {
          "output_type": "stream",
          "name": "stderr",
          "text": [
            "Epoch 8/10: 100%|██████████| 94/94 [00:15<00:00,  6.25it/s]\n"
          ]
        },
        {
          "output_type": "stream",
          "name": "stdout",
          "text": [
            "Epoch [8/10], Loss: 0.4464, Accuracy: 0.7857, ROC AUC: 0.7908\n",
            "Validation Loss: 0.6488, Accuracy: 0.6574, ROC AUC: 0.7506\n"
          ]
        },
        {
          "output_type": "stream",
          "name": "stderr",
          "text": [
            "Epoch 9/10: 100%|██████████| 94/94 [00:15<00:00,  6.13it/s]\n"
          ]
        },
        {
          "output_type": "stream",
          "name": "stdout",
          "text": [
            "Epoch [9/10], Loss: 0.4361, Accuracy: 0.7887, ROC AUC: 0.8047\n",
            "Validation Loss: 0.6415, Accuracy: 0.6778, ROC AUC: 0.7741\n"
          ]
        },
        {
          "output_type": "stream",
          "name": "stderr",
          "text": [
            "Epoch 10/10: 100%|██████████| 94/94 [00:14<00:00,  6.34it/s]\n"
          ]
        },
        {
          "output_type": "stream",
          "name": "stdout",
          "text": [
            "Epoch [10/10], Loss: 0.4279, Accuracy: 0.7957, ROC AUC: 0.8107\n",
            "Validation Loss: 0.5908, Accuracy: 0.7009, ROC AUC: 0.7832\n"
          ]
        }
      ]
    },
    {
      "cell_type": "code",
      "source": [
        "def plot_metrics(train_losses, train_accuracies, val_losses, val_accuracies):\n",
        "    epochs = range(1, len(train_losses) + 1)\n",
        "\n",
        "    # Plot loss\n",
        "    plt.figure(figsize=(12, 5))\n",
        "\n",
        "    # Training and Validation Loss\n",
        "    plt.subplot(1, 2, 1)\n",
        "    plt.plot(epochs, train_losses, 'b-', label=\"Training Loss\")\n",
        "    plt.plot(epochs, val_losses, 'r-', label=\"Validation Loss\")\n",
        "    plt.title(\"Loss Over Epochs\")\n",
        "    plt.xlabel(\"Epochs\")\n",
        "    plt.ylabel(\"Loss\")\n",
        "    plt.legend()\n",
        "\n",
        "    # Training and Validation Accuracy\n",
        "    plt.subplot(1, 2, 2)\n",
        "    plt.plot(epochs, train_accuracies, 'b-', label=\"Training Accuracy\")\n",
        "    plt.plot(epochs, val_accuracies, 'r-', label=\"Validation Accuracy\")\n",
        "    plt.title(\"Accuracy Over Epochs\")\n",
        "    plt.xlabel(\"Epochs\")\n",
        "    plt.ylabel(\"Accuracy\")\n",
        "    plt.legend()\n",
        "\n",
        "    plt.tight_layout()\n",
        "    plt.show()\n",
        "\n",
        "\n",
        "def plot_roc_auc(train_rocs, val_rocs):\n",
        "    plt.figure(figsize=(8, 5))\n",
        "    epochs = range(1, len(train_rocs) + 1)\n",
        "    plt.plot(epochs, train_rocs, 'b-', label=\"Training ROC AUC\")\n",
        "    plt.plot(epochs, val_rocs, 'r-', label=\"Validation ROC AUC\")\n",
        "    plt.title(\"ROC AUC Over Epochs\")\n",
        "    plt.xlabel(\"Epochs\")\n",
        "    plt.ylabel(\"ROC AUC\")\n",
        "    plt.legend()\n",
        "    plt.show()\n",
        "\n",
        "plot_metrics(train_losses, train_accuracies, val_losses, val_accuracies)\n",
        "plot_roc_auc(train_rocs, val_rocs)"
      ],
      "metadata": {
        "colab": {
          "base_uri": "https://localhost:8080/",
          "height": 977
        },
        "id": "0_KeYwCyB_ZT",
        "outputId": "d501d769-ed96-4718-f4e5-a95fb14c4a8b"
      },
      "execution_count": null,
      "outputs": [
        {
          "output_type": "display_data",
          "data": {
            "text/plain": [
              "<Figure size 1200x500 with 2 Axes>"
            ],
            "image/png": "[encoded data removed]"
          },
          "metadata": {}
        },
        {
          "output_type": "display_data",
          "data": {
            "text/plain": [
              "<Figure size 800x500 with 1 Axes>"
            ],
            "image/png": "[encoded data removed]"
          },
          "metadata": {}
        }
      ]
    },
    {
      "cell_type": "code",
      "source": [
        "model.load_state_dict(torch.load('best_model.pth', weights_only=True))\n",
        "test_loss, test_accuracy, roc_auc = evaluate_model_with_loss_and_roc(model, test_loader, criterion)\n",
        "\n",
        "print(f\"Test Accuracy: {test_accuracy:.4f}, Test Loss: {test_loss:.4f}, Test ROC AUC: {roc_auc:.4f}\")"
      ],
      "metadata": {
        "colab": {
          "base_uri": "https://localhost:8080/"
        },
        "id": "wD7LiNO5DFxB",
        "outputId": "d058b805-dc58-4d94-b720-0ee3663e66c6"
      },
      "execution_count": null,
      "outputs": [
        {
          "output_type": "stream",
          "name": "stdout",
          "text": [
            "Test Accuracy: 0.7436, Test Loss: 0.5125, Test ROC AUC: 0.7825\n"
          ]
        }
      ]
    },
    {
      "cell_type": "code",
      "source": [
        "# Classification report\n",
        "def get_predictions(model, data_loader):\n",
        "    model.eval()\n",
        "    all_labels = []\n",
        "    all_outputs = []\n",
        "\n",
        "    with torch.no_grad():\n",
        "        for batch in data_loader:\n",
        "            images = batch[\"image\"].to(device)\n",
        "            labels = batch[\"label\"].to(device)\n",
        "\n",
        "            # Forward pass\n",
        "            outputs = model(images)\n",
        "\n",
        "            # Collect outputs and labels for ROC AUC\n",
        "            all_outputs.append(torch.sigmoid(outputs).cpu().numpy())\n",
        "\n",
        "            # Calculate accuracy (multi-label classification)\n",
        "            predicted = torch.sigmoid(outputs) > 0.5\n",
        "            all_labels.append(labels.cpu().numpy())\n",
        "\n",
        "    all_labels = np.vstack(all_labels)\n",
        "    all_outputs = np.vstack(all_outputs)\n",
        "\n",
        "    return all_labels, all_outputs\n",
        "\n",
        "def encode_combinations(labels):\n",
        "    labels = labels.astype(int)  # Ensure integer format\n",
        "    return [\"\".join(map(str, label)) for label in labels]\n",
        "\n",
        "\n",
        "\n",
        "def get_classification_report(all_labels, all_outputs):\n",
        "    all_outputs = (all_outputs > 0.5).astype(int)\n",
        "    classification_report_str = classification_report(all_labels, all_outputs, target_names=[\"acl\", \"meniscus\", \"abnormal\"], zero_division=0)\n",
        "    print(classification_report_str)\n",
        "\n",
        "\n",
        "def map_combinations_to_names(combinations):\n",
        "    mapping = {\n",
        "        \"000\": \"no issues\",\n",
        "        \"100\": \"meniscus\",\n",
        "        \"010\": \"acl\",\n",
        "        \"001\": \"abnormalities\",\n",
        "        \"110\": \"meniscus, acl\",\n",
        "        \"101\": \"meniscus, abnormalities\",\n",
        "        \"011\": \"acl, abnormalities\",\n",
        "        \"111\": \"meniscus, acl, abnormalities\",\n",
        "    }\n",
        "    return [mapping.get(combo, \"unknown\") for combo in combinations]\n",
        "\n",
        "\n",
        "def get_combination_classification_report_with_names(all_labels, all_outputs):\n",
        "    # Encode ground truth and predictions as single labels\n",
        "    true_combinations = encode_combinations(all_labels)\n",
        "    pred_combinations = encode_combinations((all_outputs > 0.5).astype(int))\n",
        "\n",
        "    # Map combinations to descriptive names\n",
        "    true_combination_names = map_combinations_to_names(true_combinations)\n",
        "    pred_combination_names = map_combinations_to_names(pred_combinations)\n",
        "\n",
        "    # Generate the classification report with descriptive names\n",
        "    combination_report = classification_report(\n",
        "        true_combination_names,\n",
        "        pred_combination_names,\n",
        "        zero_division=0  # Avoid division errors for classes with no predictions\n",
        "    )\n",
        "    print(\"Classification Report (Label Combinations):\")\n",
        "    print(combination_report)\n",
        "\n",
        "# Predictions and labels\n",
        "all_labels, all_outputs = get_predictions(model, test_loader)\n",
        "\n",
        "# Standard classification report for individual labels\n",
        "get_classification_report(all_labels, all_outputs)\n",
        "\n",
        "# Classification report for label combinations with descriptive names\n",
        "get_combination_classification_report_with_names(all_labels, all_outputs)\n"
      ],
      "metadata": {
        "colab": {
          "base_uri": "https://localhost:8080/"
        },
        "id": "TXQeKEr--GC_",
        "outputId": "6ffd889c-1a0b-44ff-9dc9-7757677ac539"
      },
      "execution_count": null,
      "outputs": [
        {
          "output_type": "stream",
          "name": "stdout",
          "text": [
            "              precision    recall  f1-score   support\n",
            "\n",
            "         acl       0.68      0.23      0.34       114\n",
            "    meniscus       0.61      0.47      0.53       129\n",
            "    abnormal       0.78      0.96      0.86       294\n",
            "\n",
            "   micro avg       0.74      0.69      0.71       537\n",
            "   macro avg       0.69      0.55      0.58       537\n",
            "weighted avg       0.72      0.69      0.67       537\n",
            " samples avg       0.68      0.57      0.59       537\n",
            "\n",
            "Classification Report (Label Combinations):\n",
            "                              precision    recall  f1-score   support\n",
            "\n",
            "               abnormalities       0.37      0.82      0.51       117\n",
            "          acl, abnormalities       0.30      0.33      0.32        63\n",
            "     meniscus, abnormalities       0.44      0.08      0.14        48\n",
            "meniscus, acl, abnormalities       0.41      0.18      0.25        66\n",
            "                   no issues       0.56      0.15      0.23        96\n",
            "\n",
            "                    accuracy                           0.38       390\n",
            "                   macro avg       0.42      0.31      0.29       390\n",
            "                weighted avg       0.42      0.38      0.32       390\n",
            "\n"
          ]
        }
      ]
    }
  ],
  "metadata": {
    "accelerator": "GPU",
    "colab": {
      "gpuType": "T4",
      "provenance": []
    },
    "kernelspec": {
      "display_name": "Python 3",
      "name": "python3"
    },
    "language_info": {
      "codemirror_mode": {
        "name": "ipython",
        "version": 3
      },
      "file_extension": ".py",
      "mimetype": "text/x-python",
      "name": "python",
      "nbconvert_exporter": "python",
      "pygments_lexer": "ipython3",
      "version": "3.12.3"
    }
  },
  "nbformat": 4,
  "nbformat_minor": 0
}